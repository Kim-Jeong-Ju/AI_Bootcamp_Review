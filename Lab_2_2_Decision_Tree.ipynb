{
  "nbformat": 4,
  "nbformat_minor": 0,
  "metadata": {
    "celltoolbar": "Raw Cell Format",
    "kernelspec": {
      "display_name": "Python 3",
      "language": "python",
      "name": "python3"
    },
    "language_info": {
      "codemirror_mode": {
        "name": "ipython",
        "version": 3
      },
      "file_extension": ".py",
      "mimetype": "text/x-python",
      "name": "python",
      "nbconvert_exporter": "python",
      "pygments_lexer": "ipython3",
      "version": "3.6.8"
    },
    "colab": {
      "name": "Lab 2-2. Decision Tree.ipynb",
      "provenance": [],
      "collapsed_sections": [],
      "include_colab_link": true
    }
  },
  "cells": [
    {
      "cell_type": "markdown",
      "metadata": {
        "id": "view-in-github",
        "colab_type": "text"
      },
      "source": [
        "<a href=\"https://colab.research.google.com/github/Kim-Jeong-Ju/AI_Bootcamp_Review/blob/main/Lab_2_2_Decision_Tree.ipynb\" target=\"_parent\"><img src=\"https://colab.research.google.com/assets/colab-badge.svg\" alt=\"Open In Colab\"/></a>"
      ]
    },
    {
      "cell_type": "markdown",
      "metadata": {
        "id": "08Y0sxvtzmwJ"
      },
      "source": [
        "# Lab 2-2. Decision Tree"
      ]
    },
    {
      "cell_type": "markdown",
      "metadata": {
        "id": "ToxF0Q2MyVkN"
      },
      "source": [
        " ### 간단하교 효과적인 머신러닝 툴인 Scikit-learn 패키지를 사용한 Decision Tree Tutorial\n",
        "*   Classification Tree, Regression Tree\n",
        "*   Random Forest, Gradient Boost\n",
        "\n",
        "[Ref.]\n",
        "*   https://scikit-learn.org/stable/modules/tree.html\n",
        "*   https://scikit-learn.org/stable/modules/ensemble.html\n",
        "\n",
        "\n",
        "\n",
        "\n"
      ]
    },
    {
      "cell_type": "markdown",
      "metadata": {
        "id": "HYRVMDY3tgr-"
      },
      "source": [
        "---\n",
        "## Classification Tree\n"
      ]
    },
    {
      "cell_type": "markdown",
      "metadata": {
        "id": "xGn6i4npzmwP"
      },
      "source": [
        "### Load Diabetes Dataset from Google Drive"
      ]
    },
    {
      "cell_type": "code",
      "metadata": {
        "id": "ZYMRyUBeLD02",
        "colab": {
          "base_uri": "https://localhost:8080/"
        },
        "outputId": "32e7c5b5-b849-4961-a158-8a8eb4aa7688"
      },
      "source": [
        "from google.colab import drive\n",
        "drive.mount('/content/drive')"
      ],
      "execution_count": null,
      "outputs": [
        {
          "output_type": "stream",
          "name": "stdout",
          "text": [
            "Mounted at /content/drive\n"
          ]
        }
      ]
    },
    {
      "cell_type": "code",
      "metadata": {
        "id": "KoZswxPe2qFw"
      },
      "source": [
        "import pandas as pd\n",
        "import numpy as np\n",
        "import matplotlib.pyplot as plt\n",
        "%matplotlib inline"
      ],
      "execution_count": null,
      "outputs": []
    },
    {
      "cell_type": "code",
      "metadata": {
        "id": "FJJwFKTdX8ew",
        "colab": {
          "base_uri": "https://localhost:8080/",
          "height": 261
        },
        "outputId": "610c5af9-91e1-4856-fc72-dbbf191042d6"
      },
      "source": [
        "diabetes = pd.read_csv('/content/drive/MyDrive/Colab Notebooks/data/diabetes.csv')\n",
        "print(diabetes.columns)\n",
        "diabetes.head()"
      ],
      "execution_count": null,
      "outputs": [
        {
          "output_type": "stream",
          "name": "stdout",
          "text": [
            "Index(['Pregnancies', 'Glucose', 'BloodPressure', 'SkinThickness', 'Insulin',\n",
            "       'BMI', 'DiabetesPedigreeFunction', 'Age', 'Outcome'],\n",
            "      dtype='object')\n"
          ]
        },
        {
          "output_type": "execute_result",
          "data": {
            "text/plain": [
              "   Pregnancies  Glucose  BloodPressure  SkinThickness  Insulin   BMI  \\\n",
              "0            6      148             72             35        0  33.6   \n",
              "1            1       85             66             29        0  26.6   \n",
              "2            8      183             64              0        0  23.3   \n",
              "3            1       89             66             23       94  28.1   \n",
              "4            0      137             40             35      168  43.1   \n",
              "\n",
              "   DiabetesPedigreeFunction  Age  Outcome  \n",
              "0                     0.627   50        1  \n",
              "1                     0.351   31        0  \n",
              "2                     0.672   32        1  \n",
              "3                     0.167   21        0  \n",
              "4                     2.288   33        1  "
            ],
            "text/html": [
              "\n",
              "  <div id=\"df-33fb5ec7-0f40-49da-8293-8ebd3671e46d\">\n",
              "    <div class=\"colab-df-container\">\n",
              "      <div>\n",
              "<style scoped>\n",
              "    .dataframe tbody tr th:only-of-type {\n",
              "        vertical-align: middle;\n",
              "    }\n",
              "\n",
              "    .dataframe tbody tr th {\n",
              "        vertical-align: top;\n",
              "    }\n",
              "\n",
              "    .dataframe thead th {\n",
              "        text-align: right;\n",
              "    }\n",
              "</style>\n",
              "<table border=\"1\" class=\"dataframe\">\n",
              "  <thead>\n",
              "    <tr style=\"text-align: right;\">\n",
              "      <th></th>\n",
              "      <th>Pregnancies</th>\n",
              "      <th>Glucose</th>\n",
              "      <th>BloodPressure</th>\n",
              "      <th>SkinThickness</th>\n",
              "      <th>Insulin</th>\n",
              "      <th>BMI</th>\n",
              "      <th>DiabetesPedigreeFunction</th>\n",
              "      <th>Age</th>\n",
              "      <th>Outcome</th>\n",
              "    </tr>\n",
              "  </thead>\n",
              "  <tbody>\n",
              "    <tr>\n",
              "      <th>0</th>\n",
              "      <td>6</td>\n",
              "      <td>148</td>\n",
              "      <td>72</td>\n",
              "      <td>35</td>\n",
              "      <td>0</td>\n",
              "      <td>33.6</td>\n",
              "      <td>0.627</td>\n",
              "      <td>50</td>\n",
              "      <td>1</td>\n",
              "    </tr>\n",
              "    <tr>\n",
              "      <th>1</th>\n",
              "      <td>1</td>\n",
              "      <td>85</td>\n",
              "      <td>66</td>\n",
              "      <td>29</td>\n",
              "      <td>0</td>\n",
              "      <td>26.6</td>\n",
              "      <td>0.351</td>\n",
              "      <td>31</td>\n",
              "      <td>0</td>\n",
              "    </tr>\n",
              "    <tr>\n",
              "      <th>2</th>\n",
              "      <td>8</td>\n",
              "      <td>183</td>\n",
              "      <td>64</td>\n",
              "      <td>0</td>\n",
              "      <td>0</td>\n",
              "      <td>23.3</td>\n",
              "      <td>0.672</td>\n",
              "      <td>32</td>\n",
              "      <td>1</td>\n",
              "    </tr>\n",
              "    <tr>\n",
              "      <th>3</th>\n",
              "      <td>1</td>\n",
              "      <td>89</td>\n",
              "      <td>66</td>\n",
              "      <td>23</td>\n",
              "      <td>94</td>\n",
              "      <td>28.1</td>\n",
              "      <td>0.167</td>\n",
              "      <td>21</td>\n",
              "      <td>0</td>\n",
              "    </tr>\n",
              "    <tr>\n",
              "      <th>4</th>\n",
              "      <td>0</td>\n",
              "      <td>137</td>\n",
              "      <td>40</td>\n",
              "      <td>35</td>\n",
              "      <td>168</td>\n",
              "      <td>43.1</td>\n",
              "      <td>2.288</td>\n",
              "      <td>33</td>\n",
              "      <td>1</td>\n",
              "    </tr>\n",
              "  </tbody>\n",
              "</table>\n",
              "</div>\n",
              "      <button class=\"colab-df-convert\" onclick=\"convertToInteractive('df-33fb5ec7-0f40-49da-8293-8ebd3671e46d')\"\n",
              "              title=\"Convert this dataframe to an interactive table.\"\n",
              "              style=\"display:none;\">\n",
              "        \n",
              "  <svg xmlns=\"http://www.w3.org/2000/svg\" height=\"24px\"viewBox=\"0 0 24 24\"\n",
              "       width=\"24px\">\n",
              "    <path d=\"M0 0h24v24H0V0z\" fill=\"none\"/>\n",
              "    <path d=\"M18.56 5.44l.94 2.06.94-2.06 2.06-.94-2.06-.94-.94-2.06-.94 2.06-2.06.94zm-11 1L8.5 8.5l.94-2.06 2.06-.94-2.06-.94L8.5 2.5l-.94 2.06-2.06.94zm10 10l.94 2.06.94-2.06 2.06-.94-2.06-.94-.94-2.06-.94 2.06-2.06.94z\"/><path d=\"M17.41 7.96l-1.37-1.37c-.4-.4-.92-.59-1.43-.59-.52 0-1.04.2-1.43.59L10.3 9.45l-7.72 7.72c-.78.78-.78 2.05 0 2.83L4 21.41c.39.39.9.59 1.41.59.51 0 1.02-.2 1.41-.59l7.78-7.78 2.81-2.81c.8-.78.8-2.07 0-2.86zM5.41 20L4 18.59l7.72-7.72 1.47 1.35L5.41 20z\"/>\n",
              "  </svg>\n",
              "      </button>\n",
              "      \n",
              "  <style>\n",
              "    .colab-df-container {\n",
              "      display:flex;\n",
              "      flex-wrap:wrap;\n",
              "      gap: 12px;\n",
              "    }\n",
              "\n",
              "    .colab-df-convert {\n",
              "      background-color: #E8F0FE;\n",
              "      border: none;\n",
              "      border-radius: 50%;\n",
              "      cursor: pointer;\n",
              "      display: none;\n",
              "      fill: #1967D2;\n",
              "      height: 32px;\n",
              "      padding: 0 0 0 0;\n",
              "      width: 32px;\n",
              "    }\n",
              "\n",
              "    .colab-df-convert:hover {\n",
              "      background-color: #E2EBFA;\n",
              "      box-shadow: 0px 1px 2px rgba(60, 64, 67, 0.3), 0px 1px 3px 1px rgba(60, 64, 67, 0.15);\n",
              "      fill: #174EA6;\n",
              "    }\n",
              "\n",
              "    [theme=dark] .colab-df-convert {\n",
              "      background-color: #3B4455;\n",
              "      fill: #D2E3FC;\n",
              "    }\n",
              "\n",
              "    [theme=dark] .colab-df-convert:hover {\n",
              "      background-color: #434B5C;\n",
              "      box-shadow: 0px 1px 3px 1px rgba(0, 0, 0, 0.15);\n",
              "      filter: drop-shadow(0px 1px 2px rgba(0, 0, 0, 0.3));\n",
              "      fill: #FFFFFF;\n",
              "    }\n",
              "  </style>\n",
              "\n",
              "      <script>\n",
              "        const buttonEl =\n",
              "          document.querySelector('#df-33fb5ec7-0f40-49da-8293-8ebd3671e46d button.colab-df-convert');\n",
              "        buttonEl.style.display =\n",
              "          google.colab.kernel.accessAllowed ? 'block' : 'none';\n",
              "\n",
              "        async function convertToInteractive(key) {\n",
              "          const element = document.querySelector('#df-33fb5ec7-0f40-49da-8293-8ebd3671e46d');\n",
              "          const dataTable =\n",
              "            await google.colab.kernel.invokeFunction('convertToInteractive',\n",
              "                                                     [key], {});\n",
              "          if (!dataTable) return;\n",
              "\n",
              "          const docLinkHtml = 'Like what you see? Visit the ' +\n",
              "            '<a target=\"_blank\" href=https://colab.research.google.com/notebooks/data_table.ipynb>data table notebook</a>'\n",
              "            + ' to learn more about interactive tables.';\n",
              "          element.innerHTML = '';\n",
              "          dataTable['output_type'] = 'display_data';\n",
              "          await google.colab.output.renderOutput(dataTable, element);\n",
              "          const docLink = document.createElement('div');\n",
              "          docLink.innerHTML = docLinkHtml;\n",
              "          element.appendChild(docLink);\n",
              "        }\n",
              "      </script>\n",
              "    </div>\n",
              "  </div>\n",
              "  "
            ]
          },
          "metadata": {},
          "execution_count": 3
        }
      ]
    },
    {
      "cell_type": "code",
      "metadata": {
        "id": "JYmY1sRgpLw3",
        "colab": {
          "base_uri": "https://localhost:8080/"
        },
        "outputId": "411e459e-1aab-424f-a357-401d7c706f60"
      },
      "source": [
        "diabetes_features = [x for i,x in enumerate(diabetes.columns) if i!=8]\n",
        "print(diabetes_features)"
      ],
      "execution_count": null,
      "outputs": [
        {
          "output_type": "stream",
          "name": "stdout",
          "text": [
            "['Pregnancies', 'Glucose', 'BloodPressure', 'SkinThickness', 'Insulin', 'BMI', 'DiabetesPedigreeFunction', 'Age']\n"
          ]
        }
      ]
    },
    {
      "cell_type": "code",
      "metadata": {
        "id": "4kBQn8iS3ILG",
        "colab": {
          "base_uri": "https://localhost:8080/"
        },
        "outputId": "34195925-2d08-45e2-de40-00fb4507c4a9"
      },
      "source": [
        "print(\"dimension of diabetes data: {}\".format(diabetes.shape))"
      ],
      "execution_count": null,
      "outputs": [
        {
          "output_type": "stream",
          "name": "stdout",
          "text": [
            "dimension of diabetes data: (768, 9)\n"
          ]
        }
      ]
    },
    {
      "cell_type": "markdown",
      "metadata": {
        "id": "mhbQXxdWDvAf"
      },
      "source": [
        "### Split and prepare the dataset"
      ]
    },
    {
      "cell_type": "code",
      "metadata": {
        "id": "7R_psvxgCMmw"
      },
      "source": [
        "train = diabetes[:650]    # training data = 1 ~ 650번째 data\n",
        "test = diabetes[650:]     # test data = 651 ~ 768번째 data"
      ],
      "execution_count": null,
      "outputs": []
    },
    {
      "cell_type": "code",
      "metadata": {
        "id": "-dI4nxZjCXDn",
        "colab": {
          "base_uri": "https://localhost:8080/"
        },
        "outputId": "97a63f5d-c5e9-4c5a-a22a-2cfeef288978"
      },
      "source": [
        "x_train = np.asarray(train.drop('Outcome',1))\n",
        "y_train = np.asarray(train['Outcome'])\n",
        "x_test = np.asarray(test.drop('Outcome',1))\n",
        "y_test = np.asarray(test['Outcome'])"
      ],
      "execution_count": null,
      "outputs": [
        {
          "output_type": "stream",
          "name": "stderr",
          "text": [
            "/usr/local/lib/python3.7/dist-packages/ipykernel_launcher.py:1: FutureWarning: In a future version of pandas all arguments of DataFrame.drop except for the argument 'labels' will be keyword-only\n",
            "  \"\"\"Entry point for launching an IPython kernel.\n",
            "/usr/local/lib/python3.7/dist-packages/ipykernel_launcher.py:3: FutureWarning: In a future version of pandas all arguments of DataFrame.drop except for the argument 'labels' will be keyword-only\n",
            "  This is separate from the ipykernel package so we can avoid doing imports until\n"
          ]
        }
      ]
    },
    {
      "cell_type": "markdown",
      "metadata": {
        "id": "p4vTWf6juKqV"
      },
      "source": [
        "### Decision Tree"
      ]
    },
    {
      "cell_type": "code",
      "metadata": {
        "id": "Y8VNy11nnPpv"
      },
      "source": [
        "from sklearn import tree"
      ],
      "execution_count": null,
      "outputs": []
    },
    {
      "cell_type": "code",
      "metadata": {
        "id": "LDgYdkYteERO",
        "colab": {
          "base_uri": "https://localhost:8080/"
        },
        "outputId": "0ce80b1e-c391-40cc-90bb-409f0ae331db"
      },
      "source": [
        "from sklearn.tree import DecisionTreeClassifier\n",
        "\n",
        "clf = DecisionTreeClassifier(random_state=0) # Gini by default, random_state = 0이면 tree의 random한 요소 없이 고정하는 역할\n",
        "clf.fit(x_train, y_train)\n",
        "print(\"Accuracy on training set: {:.3f}\".format(clf.score(x_train, y_train)))\n",
        "print(\"Accuracy on test set: {:.3f}\".format(clf.score(x_test, y_test)))"
      ],
      "execution_count": null,
      "outputs": [
        {
          "output_type": "stream",
          "name": "stdout",
          "text": [
            "Accuracy on training set: 1.000\n",
            "Accuracy on test set: 0.703\n"
          ]
        }
      ]
    },
    {
      "cell_type": "markdown",
      "metadata": {
        "id": "bSkja4erk5J2"
      },
      "source": [
        "트레이닝 셋에서의 정확도는 100%이나, 테스트셋에서의 정확도는 떨어짐. 즉, overfitting 되어 새로운 데이터에 generalize가 안된다는 뜻."
      ]
    },
    {
      "cell_type": "markdown",
      "metadata": {
        "id": "5OhlyNj-uVx5"
      },
      "source": [
        "#### Visualize Tree"
      ]
    },
    {
      "cell_type": "code",
      "metadata": {
        "id": "rIAD-YqqnTYR",
        "colab": {
          "base_uri": "https://localhost:8080/",
          "height": 266
        },
        "outputId": "4f550ea7-9687-4e77-9842-f4c2b272a354"
      },
      "source": [
        "tree.plot_tree(clf)\n",
        "[...]"
      ],
      "execution_count": null,
      "outputs": [
        {
          "output_type": "execute_result",
          "data": {
            "text/plain": [
              "[Ellipsis]"
            ]
          },
          "metadata": {},
          "execution_count": 11
        },
        {
          "output_type": "display_data",
          "data": {
            "text/plain": [
              "<Figure size 432x288 with 1 Axes>"
            ],
            "image/png": "[encoded data removed]"
          },
          "metadata": {
            "needs_background": "light"
          }
        }
      ]
    },
    {
      "cell_type": "markdown",
      "metadata": {
        "id": "Af7EXH6Wk5J2"
      },
      "source": [
        " Pre-pruning, max_depth=3 으로 설정해서 오버피팅을 방지한다. 트레이닝 셋에서의 정확도는 떨어지지만, 테스트 셋에서의 성능은 올라간다. \n",
        " 그 외에도 [post pruning with cost complexity pruning](https://scikit-learn.org/stable/auto_examples/tree/plot_cost_complexity_pruning.html#sphx-glr-auto-examples-tree-plot-cost-complexity-pruning-py)를 활용할 수 있다."
      ]
    },
    {
      "cell_type": "code",
      "metadata": {
        "id": "2XzYbSeNg_DW",
        "colab": {
          "base_uri": "https://localhost:8080/"
        },
        "outputId": "77b12c5e-e74f-49e1-e3e4-747b7c70c408"
      },
      "source": [
        "clf = DecisionTreeClassifier(max_depth=3, random_state=0)\n",
        "clf.fit(x_train, y_train)\n",
        "\n",
        "print(\"Accuracy on training set: {:.3f}\".format(clf.score(x_train, y_train)))\n",
        "print(\"Accuracy on test set: {:.3f}\".format(clf.score(x_test, y_test)))"
      ],
      "execution_count": null,
      "outputs": [
        {
          "output_type": "stream",
          "name": "stdout",
          "text": [
            "Accuracy on training set: 0.783\n",
            "Accuracy on test set: 0.763\n"
          ]
        }
      ]
    },
    {
      "cell_type": "code",
      "metadata": {
        "id": "NbPzYGWYqChT",
        "colab": {
          "base_uri": "https://localhost:8080/",
          "height": 266
        },
        "outputId": "f29c70e1-49d3-4f4d-bcd8-0c3e68d57d86"
      },
      "source": [
        "tree.plot_tree(clf)\n",
        "[...]"
      ],
      "execution_count": null,
      "outputs": [
        {
          "output_type": "execute_result",
          "data": {
            "text/plain": [
              "[Ellipsis]"
            ]
          },
          "metadata": {},
          "execution_count": 13
        },
        {
          "output_type": "display_data",
          "data": {
            "text/plain": [
              "<Figure size 432x288 with 1 Axes>"
            ],
            "image/png": "[encoded data removed]"
          },
          "metadata": {
            "needs_background": "light"
          }
        }
      ]
    },
    {
      "cell_type": "code",
      "metadata": {
        "id": "SFvMATFKojiQ",
        "colab": {
          "base_uri": "https://localhost:8080/",
          "height": 597
        },
        "outputId": "c1220420-8dd9-4bd1-fb35-b01f595f9ae5"
      },
      "source": [
        "import graphviz \n",
        "dot_data = tree.export_graphviz(clf, out_file=None,\n",
        "                     feature_names=diabetes_features,\n",
        "                     class_names=['O','X'],\n",
        "                     filled=True, rounded=True,\n",
        "                     special_characters=True)\n",
        "graph = graphviz.Source(dot_data)\n",
        "graph"
      ],
      "execution_count": null,
      "outputs": [
        {
          "output_type": "execute_result",
          "data": {
            "text/plain": [
              "<graphviz.files.Source at 0x7f352aa48e10>"
            ],
            "image/svg+xml": "<?xml version=\"1.0\" encoding=\"UTF-8\" standalone=\"no\"?>\n<!DOCTYPE svg PUBLIC \"-//W3C//DTD SVG 1.1//EN\"\n \"http://www.w3.org/Graphics/SVG/1.1/DTD/svg11.dtd\">\n<!-- Generated by graphviz version 2.40.1 (20161225.0304)\n -->\n<!-- Title: Tree Pages: 1 -->\n<svg width=\"1033pt\" height=\"433pt\"\n viewBox=\"0.00 0.00 1033.00 433.00\" xmlns=\"http://www.w3.org/2000/svg\" xmlns:xlink=\"http://www.w3.org/1999/xlink\">\n<g id=\"graph0\" class=\"graph\" transform=\"scale(1 1) rotate(0) translate(4 429)\">\n<title>Tree</title>\n<polygon fill=\"#ffffff\" stroke=\"transparent\" points=\"-4,4 -4,-429 1029,-429 1029,4 -4,4\"/>\n<!-- 0 -->\n<g id=\"node1\" class=\"node\">\n<title>0</title>\n<path fill=\"#f3c3a0\" stroke=\"#000000\" d=\"M559,-425C559,-425 451,-425 451,-425 445,-425 439,-419 439,-413 439,-413 439,-354 439,-354 439,-348 445,-342 451,-342 451,-342 559,-342 559,-342 565,-342 571,-348 571,-354 571,-354 571,-413 571,-413 571,-419 565,-425 559,-425\"/>\n<text text-anchor=\"start\" x=\"452\" y=\"-409.8\" font-family=\"Helvetica,sans-Serif\" font-size=\"14.00\" fill=\"#000000\">Glucose ≤ 127.5</text>\n<text text-anchor=\"start\" x=\"467\" y=\"-394.8\" font-family=\"Helvetica,sans-Serif\" font-size=\"14.00\" fill=\"#000000\">gini = 0.451</text>\n<text text-anchor=\"start\" x=\"457\" y=\"-379.8\" font-family=\"Helvetica,sans-Serif\" font-size=\"14.00\" fill=\"#000000\">samples = 650</text>\n<text text-anchor=\"start\" x=\"447\" y=\"-364.8\" font-family=\"Helvetica,sans-Serif\" font-size=\"14.00\" fill=\"#000000\">value = [427, 223]</text>\n<text text-anchor=\"start\" x=\"474.5\" y=\"-349.8\" font-family=\"Helvetica,sans-Serif\" font-size=\"14.00\" fill=\"#000000\">class = O</text>\n</g>\n<!-- 1 -->\n<g id=\"node2\" class=\"node\">\n<title>1</title>\n<path fill=\"#eb9f69\" stroke=\"#000000\" d=\"M434,-306C434,-306 334,-306 334,-306 328,-306 322,-300 322,-294 322,-294 322,-235 322,-235 322,-229 328,-223 334,-223 334,-223 434,-223 434,-223 440,-223 446,-229 446,-235 446,-235 446,-294 446,-294 446,-300 440,-306 434,-306\"/>\n<text text-anchor=\"start\" x=\"349\" y=\"-290.8\" font-family=\"Helvetica,sans-Serif\" font-size=\"14.00\" fill=\"#000000\">Age ≤ 28.5</text>\n<text text-anchor=\"start\" x=\"346\" y=\"-275.8\" font-family=\"Helvetica,sans-Serif\" font-size=\"14.00\" fill=\"#000000\">gini = 0.313</text>\n<text text-anchor=\"start\" x=\"336\" y=\"-260.8\" font-family=\"Helvetica,sans-Serif\" font-size=\"14.00\" fill=\"#000000\">samples = 412</text>\n<text text-anchor=\"start\" x=\"330\" y=\"-245.8\" font-family=\"Helvetica,sans-Serif\" font-size=\"14.00\" fill=\"#000000\">value = [332, 80]</text>\n<text text-anchor=\"start\" x=\"353.5\" y=\"-230.8\" font-family=\"Helvetica,sans-Serif\" font-size=\"14.00\" fill=\"#000000\">class = O</text>\n</g>\n<!-- 0&#45;&gt;1 -->\n<g id=\"edge1\" class=\"edge\">\n<title>0&#45;&gt;1</title>\n<path fill=\"none\" stroke=\"#000000\" d=\"M462.6801,-341.8796C453.3392,-332.6931 443.361,-322.8798 433.756,-313.4336\"/>\n<polygon fill=\"#000000\" stroke=\"#000000\" points=\"436.0845,-310.8146 426.5006,-306.2981 431.1762,-315.8054 436.0845,-310.8146\"/>\n<text text-anchor=\"middle\" x=\"426.7089\" y=\"-327.5972\" font-family=\"Helvetica,sans-Serif\" font-size=\"14.00\" fill=\"#000000\">True</text>\n</g>\n<!-- 8 -->\n<g id=\"node9\" class=\"node\">\n<title>8</title>\n<path fill=\"#bddef6\" stroke=\"#000000\" d=\"M684,-306C684,-306 584,-306 584,-306 578,-306 572,-300 572,-294 572,-294 572,-235 572,-235 572,-229 578,-223 584,-223 584,-223 684,-223 684,-223 690,-223 696,-229 696,-235 696,-235 696,-294 696,-294 696,-300 690,-306 684,-306\"/>\n<text text-anchor=\"start\" x=\"595\" y=\"-290.8\" font-family=\"Helvetica,sans-Serif\" font-size=\"14.00\" fill=\"#000000\">BMI ≤ 29.95</text>\n<text text-anchor=\"start\" x=\"600.5\" y=\"-275.8\" font-family=\"Helvetica,sans-Serif\" font-size=\"14.00\" fill=\"#000000\">gini = 0.48</text>\n<text text-anchor=\"start\" x=\"586\" y=\"-260.8\" font-family=\"Helvetica,sans-Serif\" font-size=\"14.00\" fill=\"#000000\">samples = 238</text>\n<text text-anchor=\"start\" x=\"580\" y=\"-245.8\" font-family=\"Helvetica,sans-Serif\" font-size=\"14.00\" fill=\"#000000\">value = [95, 143]</text>\n<text text-anchor=\"start\" x=\"604\" y=\"-230.8\" font-family=\"Helvetica,sans-Serif\" font-size=\"14.00\" fill=\"#000000\">class = X</text>\n</g>\n<!-- 0&#45;&gt;8 -->\n<g id=\"edge8\" class=\"edge\">\n<title>0&#45;&gt;8</title>\n<path fill=\"none\" stroke=\"#000000\" d=\"M550.1179,-341.8796C560.174,-332.6031 570.923,-322.6874 581.2554,-313.1559\"/>\n<polygon fill=\"#000000\" stroke=\"#000000\" points=\"583.7124,-315.6511 588.6895,-306.2981 578.9661,-310.506 583.7124,-315.6511\"/>\n<text text-anchor=\"middle\" x=\"587.6822\" y=\"-327.5778\" font-family=\"Helvetica,sans-Serif\" font-size=\"14.00\" fill=\"#000000\">False</text>\n</g>\n<!-- 2 -->\n<g id=\"node3\" class=\"node\">\n<title>2</title>\n<path fill=\"#e78c4a\" stroke=\"#000000\" d=\"M242,-187C242,-187 142,-187 142,-187 136,-187 130,-181 130,-175 130,-175 130,-116 130,-116 130,-110 136,-104 142,-104 142,-104 242,-104 242,-104 248,-104 254,-110 254,-116 254,-116 254,-175 254,-175 254,-181 248,-187 242,-187\"/>\n<text text-anchor=\"start\" x=\"157\" y=\"-171.8\" font-family=\"Helvetica,sans-Serif\" font-size=\"14.00\" fill=\"#000000\">BMI ≤ 45.4</text>\n<text text-anchor=\"start\" x=\"154\" y=\"-156.8\" font-family=\"Helvetica,sans-Serif\" font-size=\"14.00\" fill=\"#000000\">gini = 0.145</text>\n<text text-anchor=\"start\" x=\"144\" y=\"-141.8\" font-family=\"Helvetica,sans-Serif\" font-size=\"14.00\" fill=\"#000000\">samples = 228</text>\n<text text-anchor=\"start\" x=\"138\" y=\"-126.8\" font-family=\"Helvetica,sans-Serif\" font-size=\"14.00\" fill=\"#000000\">value = [210, 18]</text>\n<text text-anchor=\"start\" x=\"161.5\" y=\"-111.8\" font-family=\"Helvetica,sans-Serif\" font-size=\"14.00\" fill=\"#000000\">class = O</text>\n</g>\n<!-- 1&#45;&gt;2 -->\n<g id=\"edge2\" class=\"edge\">\n<title>1&#45;&gt;2</title>\n<path fill=\"none\" stroke=\"#000000\" d=\"M321.9283,-226.0284C303.0314,-214.3164 282.1218,-201.3567 262.6999,-189.3192\"/>\n<polygon fill=\"#000000\" stroke=\"#000000\" points=\"264.5304,-186.336 254.1867,-184.0428 260.8427,-192.2859 264.5304,-186.336\"/>\n</g>\n<!-- 5 -->\n<g id=\"node6\" class=\"node\">\n<title>5</title>\n<path fill=\"#f2c19e\" stroke=\"#000000\" d=\"M434,-187C434,-187 334,-187 334,-187 328,-187 322,-181 322,-175 322,-175 322,-116 322,-116 322,-110 328,-104 334,-104 334,-104 434,-104 434,-104 440,-104 446,-110 446,-116 446,-116 446,-175 446,-175 446,-181 440,-187 434,-187\"/>\n<text text-anchor=\"start\" x=\"345\" y=\"-171.8\" font-family=\"Helvetica,sans-Serif\" font-size=\"14.00\" fill=\"#000000\">BMI ≤ 26.35</text>\n<text text-anchor=\"start\" x=\"346\" y=\"-156.8\" font-family=\"Helvetica,sans-Serif\" font-size=\"14.00\" fill=\"#000000\">gini = 0.447</text>\n<text text-anchor=\"start\" x=\"336\" y=\"-141.8\" font-family=\"Helvetica,sans-Serif\" font-size=\"14.00\" fill=\"#000000\">samples = 184</text>\n<text text-anchor=\"start\" x=\"330\" y=\"-126.8\" font-family=\"Helvetica,sans-Serif\" font-size=\"14.00\" fill=\"#000000\">value = [122, 62]</text>\n<text text-anchor=\"start\" x=\"353.5\" y=\"-111.8\" font-family=\"Helvetica,sans-Serif\" font-size=\"14.00\" fill=\"#000000\">class = O</text>\n</g>\n<!-- 1&#45;&gt;5 -->\n<g id=\"edge5\" class=\"edge\">\n<title>1&#45;&gt;5</title>\n<path fill=\"none\" stroke=\"#000000\" d=\"M384,-222.8796C384,-214.6838 384,-205.9891 384,-197.5013\"/>\n<polygon fill=\"#000000\" stroke=\"#000000\" points=\"387.5001,-197.298 384,-187.2981 380.5001,-197.2981 387.5001,-197.298\"/>\n</g>\n<!-- 3 -->\n<g id=\"node4\" class=\"node\">\n<title>3</title>\n<path fill=\"#e78a47\" stroke=\"#000000\" d=\"M112,-68C112,-68 12,-68 12,-68 6,-68 0,-62 0,-56 0,-56 0,-12 0,-12 0,-6 6,0 12,0 12,0 112,0 112,0 118,0 124,-6 124,-12 124,-12 124,-56 124,-56 124,-62 118,-68 112,-68\"/>\n<text text-anchor=\"start\" x=\"24\" y=\"-52.8\" font-family=\"Helvetica,sans-Serif\" font-size=\"14.00\" fill=\"#000000\">gini = 0.124</text>\n<text text-anchor=\"start\" x=\"14\" y=\"-37.8\" font-family=\"Helvetica,sans-Serif\" font-size=\"14.00\" fill=\"#000000\">samples = 225</text>\n<text text-anchor=\"start\" x=\"8\" y=\"-22.8\" font-family=\"Helvetica,sans-Serif\" font-size=\"14.00\" fill=\"#000000\">value = [210, 15]</text>\n<text text-anchor=\"start\" x=\"31.5\" y=\"-7.8\" font-family=\"Helvetica,sans-Serif\" font-size=\"14.00\" fill=\"#000000\">class = O</text>\n</g>\n<!-- 2&#45;&gt;3 -->\n<g id=\"edge3\" class=\"edge\">\n<title>2&#45;&gt;3</title>\n<path fill=\"none\" stroke=\"#000000\" d=\"M143.5928,-103.9815C132.5558,-94.5151 120.8347,-84.462 109.8223,-75.0168\"/>\n<polygon fill=\"#000000\" stroke=\"#000000\" points=\"111.8178,-72.1173 101.9487,-68.2637 107.2606,-77.4307 111.8178,-72.1173\"/>\n</g>\n<!-- 4 -->\n<g id=\"node5\" class=\"node\">\n<title>4</title>\n<path fill=\"#399de5\" stroke=\"#000000\" d=\"M229.5,-68C229.5,-68 154.5,-68 154.5,-68 148.5,-68 142.5,-62 142.5,-56 142.5,-56 142.5,-12 142.5,-12 142.5,-6 148.5,0 154.5,0 154.5,0 229.5,0 229.5,0 235.5,0 241.5,-6 241.5,-12 241.5,-12 241.5,-56 241.5,-56 241.5,-62 235.5,-68 229.5,-68\"/>\n<text text-anchor=\"start\" x=\"162.5\" y=\"-52.8\" font-family=\"Helvetica,sans-Serif\" font-size=\"14.00\" fill=\"#000000\">gini = 0.0</text>\n<text text-anchor=\"start\" x=\"152.5\" y=\"-37.8\" font-family=\"Helvetica,sans-Serif\" font-size=\"14.00\" fill=\"#000000\">samples = 3</text>\n<text text-anchor=\"start\" x=\"150.5\" y=\"-22.8\" font-family=\"Helvetica,sans-Serif\" font-size=\"14.00\" fill=\"#000000\">value = [0, 3]</text>\n<text text-anchor=\"start\" x=\"162\" y=\"-7.8\" font-family=\"Helvetica,sans-Serif\" font-size=\"14.00\" fill=\"#000000\">class = X</text>\n</g>\n<!-- 2&#45;&gt;4 -->\n<g id=\"edge4\" class=\"edge\">\n<title>2&#45;&gt;4</title>\n<path fill=\"none\" stroke=\"#000000\" d=\"M192,-103.9815C192,-95.618 192,-86.7965 192,-78.3409\"/>\n<polygon fill=\"#000000\" stroke=\"#000000\" points=\"195.5001,-78.2636 192,-68.2637 188.5001,-78.2637 195.5001,-78.2636\"/>\n</g>\n<!-- 6 -->\n<g id=\"node7\" class=\"node\">\n<title>6</title>\n<path fill=\"#e6853f\" stroke=\"#000000\" d=\"M354.5,-68C354.5,-68 271.5,-68 271.5,-68 265.5,-68 259.5,-62 259.5,-56 259.5,-56 259.5,-12 259.5,-12 259.5,-6 265.5,0 271.5,0 271.5,0 354.5,0 354.5,0 360.5,0 366.5,-6 366.5,-12 366.5,-12 366.5,-56 366.5,-56 366.5,-62 360.5,-68 354.5,-68\"/>\n<text text-anchor=\"start\" x=\"275\" y=\"-52.8\" font-family=\"Helvetica,sans-Serif\" font-size=\"14.00\" fill=\"#000000\">gini = 0.056</text>\n<text text-anchor=\"start\" x=\"269\" y=\"-37.8\" font-family=\"Helvetica,sans-Serif\" font-size=\"14.00\" fill=\"#000000\">samples = 35</text>\n<text text-anchor=\"start\" x=\"267.5\" y=\"-22.8\" font-family=\"Helvetica,sans-Serif\" font-size=\"14.00\" fill=\"#000000\">value = [34, 1]</text>\n<text text-anchor=\"start\" x=\"282.5\" y=\"-7.8\" font-family=\"Helvetica,sans-Serif\" font-size=\"14.00\" fill=\"#000000\">class = O</text>\n</g>\n<!-- 5&#45;&gt;6 -->\n<g id=\"edge6\" class=\"edge\">\n<title>5&#45;&gt;6</title>\n<path fill=\"none\" stroke=\"#000000\" d=\"M357.5622,-103.9815C351.944,-95.1585 346.0012,-85.8258 340.3497,-76.9506\"/>\n<polygon fill=\"#000000\" stroke=\"#000000\" points=\"343.1416,-74.8188 334.8181,-68.2637 337.2371,-78.5787 343.1416,-74.8188\"/>\n</g>\n<!-- 7 -->\n<g id=\"node8\" class=\"node\">\n<title>7</title>\n<path fill=\"#f7d8c2\" stroke=\"#000000\" d=\"M489,-68C489,-68 397,-68 397,-68 391,-68 385,-62 385,-56 385,-56 385,-12 385,-12 385,-6 391,0 397,0 397,0 489,0 489,0 495,0 501,-6 501,-12 501,-12 501,-56 501,-56 501,-62 495,-68 489,-68\"/>\n<text text-anchor=\"start\" x=\"405\" y=\"-52.8\" font-family=\"Helvetica,sans-Serif\" font-size=\"14.00\" fill=\"#000000\">gini = 0.484</text>\n<text text-anchor=\"start\" x=\"395\" y=\"-37.8\" font-family=\"Helvetica,sans-Serif\" font-size=\"14.00\" fill=\"#000000\">samples = 149</text>\n<text text-anchor=\"start\" x=\"393\" y=\"-22.8\" font-family=\"Helvetica,sans-Serif\" font-size=\"14.00\" fill=\"#000000\">value = [88, 61]</text>\n<text text-anchor=\"start\" x=\"412.5\" y=\"-7.8\" font-family=\"Helvetica,sans-Serif\" font-size=\"14.00\" fill=\"#000000\">class = O</text>\n</g>\n<!-- 5&#45;&gt;7 -->\n<g id=\"edge7\" class=\"edge\">\n<title>5&#45;&gt;7</title>\n<path fill=\"none\" stroke=\"#000000\" d=\"M405.9694,-103.9815C410.5895,-95.2504 415.4736,-86.0202 420.126,-77.2281\"/>\n<polygon fill=\"#000000\" stroke=\"#000000\" points=\"423.2859,-78.7395 424.8694,-68.2637 417.0987,-75.4655 423.2859,-78.7395\"/>\n</g>\n<!-- 9 -->\n<g id=\"node10\" class=\"node\">\n<title>9</title>\n<path fill=\"#f0b58b\" stroke=\"#000000\" d=\"M683,-187C683,-187 585,-187 585,-187 579,-187 573,-181 573,-175 573,-175 573,-116 573,-116 573,-110 579,-104 585,-104 585,-104 683,-104 683,-104 689,-104 695,-110 695,-116 695,-116 695,-175 695,-175 695,-181 689,-187 683,-187\"/>\n<text text-anchor=\"start\" x=\"581\" y=\"-171.8\" font-family=\"Helvetica,sans-Serif\" font-size=\"14.00\" fill=\"#000000\">Glucose ≤ 160.0</text>\n<text text-anchor=\"start\" x=\"596\" y=\"-156.8\" font-family=\"Helvetica,sans-Serif\" font-size=\"14.00\" fill=\"#000000\">gini = 0.414</text>\n<text text-anchor=\"start\" x=\"590\" y=\"-141.8\" font-family=\"Helvetica,sans-Serif\" font-size=\"14.00\" fill=\"#000000\">samples = 65</text>\n<text text-anchor=\"start\" x=\"584\" y=\"-126.8\" font-family=\"Helvetica,sans-Serif\" font-size=\"14.00\" fill=\"#000000\">value = [46, 19]</text>\n<text text-anchor=\"start\" x=\"603.5\" y=\"-111.8\" font-family=\"Helvetica,sans-Serif\" font-size=\"14.00\" fill=\"#000000\">class = O</text>\n</g>\n<!-- 8&#45;&gt;9 -->\n<g id=\"edge9\" class=\"edge\">\n<title>8&#45;&gt;9</title>\n<path fill=\"none\" stroke=\"#000000\" d=\"M634,-222.8796C634,-214.6838 634,-205.9891 634,-197.5013\"/>\n<polygon fill=\"#000000\" stroke=\"#000000\" points=\"637.5001,-197.298 634,-187.2981 630.5001,-197.2981 637.5001,-197.298\"/>\n</g>\n<!-- 12 -->\n<g id=\"node13\" class=\"node\">\n<title>12</title>\n<path fill=\"#87c4ef\" stroke=\"#000000\" d=\"M883,-187C883,-187 783,-187 783,-187 777,-187 771,-181 771,-175 771,-175 771,-116 771,-116 771,-110 777,-104 783,-104 783,-104 883,-104 883,-104 889,-104 895,-110 895,-116 895,-116 895,-175 895,-175 895,-181 889,-187 883,-187\"/>\n<text text-anchor=\"start\" x=\"780\" y=\"-171.8\" font-family=\"Helvetica,sans-Serif\" font-size=\"14.00\" fill=\"#000000\">Glucose ≤ 157.5</text>\n<text text-anchor=\"start\" x=\"795\" y=\"-156.8\" font-family=\"Helvetica,sans-Serif\" font-size=\"14.00\" fill=\"#000000\">gini = 0.406</text>\n<text text-anchor=\"start\" x=\"785\" y=\"-141.8\" font-family=\"Helvetica,sans-Serif\" font-size=\"14.00\" fill=\"#000000\">samples = 173</text>\n<text text-anchor=\"start\" x=\"779\" y=\"-126.8\" font-family=\"Helvetica,sans-Serif\" font-size=\"14.00\" fill=\"#000000\">value = [49, 124]</text>\n<text text-anchor=\"start\" x=\"803\" y=\"-111.8\" font-family=\"Helvetica,sans-Serif\" font-size=\"14.00\" fill=\"#000000\">class = X</text>\n</g>\n<!-- 8&#45;&gt;12 -->\n<g id=\"edge12\" class=\"edge\">\n<title>8&#45;&gt;12</title>\n<path fill=\"none\" stroke=\"#000000\" d=\"M696.1463,-227.3371C717.0946,-214.8103 740.627,-200.7381 762.193,-187.8419\"/>\n<polygon fill=\"#000000\" stroke=\"#000000\" points=\"764.1967,-190.7218 770.983,-182.5856 760.6041,-184.714 764.1967,-190.7218\"/>\n</g>\n<!-- 10 -->\n<g id=\"node11\" class=\"node\">\n<title>10</title>\n<path fill=\"#eba069\" stroke=\"#000000\" d=\"M623,-68C623,-68 531,-68 531,-68 525,-68 519,-62 519,-56 519,-56 519,-12 519,-12 519,-6 525,0 531,0 531,0 623,0 623,0 629,0 635,-6 635,-12 635,-12 635,-56 635,-56 635,-62 629,-68 623,-68\"/>\n<text text-anchor=\"start\" x=\"539\" y=\"-52.8\" font-family=\"Helvetica,sans-Serif\" font-size=\"14.00\" fill=\"#000000\">gini = 0.315</text>\n<text text-anchor=\"start\" x=\"533\" y=\"-37.8\" font-family=\"Helvetica,sans-Serif\" font-size=\"14.00\" fill=\"#000000\">samples = 51</text>\n<text text-anchor=\"start\" x=\"527\" y=\"-22.8\" font-family=\"Helvetica,sans-Serif\" font-size=\"14.00\" fill=\"#000000\">value = [41, 10]</text>\n<text text-anchor=\"start\" x=\"546.5\" y=\"-7.8\" font-family=\"Helvetica,sans-Serif\" font-size=\"14.00\" fill=\"#000000\">class = O</text>\n</g>\n<!-- 9&#45;&gt;10 -->\n<g id=\"edge10\" class=\"edge\">\n<title>9&#45;&gt;10</title>\n<path fill=\"none\" stroke=\"#000000\" d=\"M612.7753,-103.9815C608.3119,-95.2504 603.5933,-86.0202 599.0987,-77.2281\"/>\n<polygon fill=\"#000000\" stroke=\"#000000\" points=\"602.1842,-75.5745 594.516,-68.2637 595.9514,-78.7608 602.1842,-75.5745\"/>\n</g>\n<!-- 11 -->\n<g id=\"node12\" class=\"node\">\n<title>11</title>\n<path fill=\"#a7d3f3\" stroke=\"#000000\" d=\"M745,-68C745,-68 665,-68 665,-68 659,-68 653,-62 653,-56 653,-56 653,-12 653,-12 653,-6 659,0 665,0 665,0 745,0 745,0 751,0 757,-6 757,-12 757,-12 757,-56 757,-56 757,-62 751,-68 745,-68\"/>\n<text text-anchor=\"start\" x=\"667\" y=\"-52.8\" font-family=\"Helvetica,sans-Serif\" font-size=\"14.00\" fill=\"#000000\">gini = 0.459</text>\n<text text-anchor=\"start\" x=\"661\" y=\"-37.8\" font-family=\"Helvetica,sans-Serif\" font-size=\"14.00\" fill=\"#000000\">samples = 14</text>\n<text text-anchor=\"start\" x=\"663.5\" y=\"-22.8\" font-family=\"Helvetica,sans-Serif\" font-size=\"14.00\" fill=\"#000000\">value = [5, 9]</text>\n<text text-anchor=\"start\" x=\"675\" y=\"-7.8\" font-family=\"Helvetica,sans-Serif\" font-size=\"14.00\" fill=\"#000000\">class = X</text>\n</g>\n<!-- 9&#45;&gt;11 -->\n<g id=\"edge11\" class=\"edge\">\n<title>9&#45;&gt;11</title>\n<path fill=\"none\" stroke=\"#000000\" d=\"M660.4378,-103.9815C666.056,-95.1585 671.9988,-85.8258 677.6503,-76.9506\"/>\n<polygon fill=\"#000000\" stroke=\"#000000\" points=\"680.7629,-78.5787 683.1819,-68.2637 674.8584,-74.8188 680.7629,-78.5787\"/>\n</g>\n<!-- 13 -->\n<g id=\"node14\" class=\"node\">\n<title>13</title>\n<path fill=\"#bedff6\" stroke=\"#000000\" d=\"M879,-68C879,-68 787,-68 787,-68 781,-68 775,-62 775,-56 775,-56 775,-12 775,-12 775,-6 781,0 787,0 787,0 879,0 879,0 885,0 891,-6 891,-12 891,-12 891,-56 891,-56 891,-62 885,-68 879,-68\"/>\n<text text-anchor=\"start\" x=\"795\" y=\"-52.8\" font-family=\"Helvetica,sans-Serif\" font-size=\"14.00\" fill=\"#000000\">gini = 0.481</text>\n<text text-anchor=\"start\" x=\"789\" y=\"-37.8\" font-family=\"Helvetica,sans-Serif\" font-size=\"14.00\" fill=\"#000000\">samples = 97</text>\n<text text-anchor=\"start\" x=\"783\" y=\"-22.8\" font-family=\"Helvetica,sans-Serif\" font-size=\"14.00\" fill=\"#000000\">value = [39, 58]</text>\n<text text-anchor=\"start\" x=\"803\" y=\"-7.8\" font-family=\"Helvetica,sans-Serif\" font-size=\"14.00\" fill=\"#000000\">class = X</text>\n</g>\n<!-- 12&#45;&gt;13 -->\n<g id=\"edge13\" class=\"edge\">\n<title>12&#45;&gt;13</title>\n<path fill=\"none\" stroke=\"#000000\" d=\"M833,-103.9815C833,-95.618 833,-86.7965 833,-78.3409\"/>\n<polygon fill=\"#000000\" stroke=\"#000000\" points=\"836.5001,-78.2636 833,-68.2637 829.5001,-78.2637 836.5001,-78.2636\"/>\n</g>\n<!-- 14 -->\n<g id=\"node15\" class=\"node\">\n<title>14</title>\n<path fill=\"#57ace9\" stroke=\"#000000\" d=\"M1013,-68C1013,-68 921,-68 921,-68 915,-68 909,-62 909,-56 909,-56 909,-12 909,-12 909,-6 915,0 921,0 921,0 1013,0 1013,0 1019,0 1025,-6 1025,-12 1025,-12 1025,-56 1025,-56 1025,-62 1019,-68 1013,-68\"/>\n<text text-anchor=\"start\" x=\"929\" y=\"-52.8\" font-family=\"Helvetica,sans-Serif\" font-size=\"14.00\" fill=\"#000000\">gini = 0.229</text>\n<text text-anchor=\"start\" x=\"923\" y=\"-37.8\" font-family=\"Helvetica,sans-Serif\" font-size=\"14.00\" fill=\"#000000\">samples = 76</text>\n<text text-anchor=\"start\" x=\"917\" y=\"-22.8\" font-family=\"Helvetica,sans-Serif\" font-size=\"14.00\" fill=\"#000000\">value = [10, 66]</text>\n<text text-anchor=\"start\" x=\"937\" y=\"-7.8\" font-family=\"Helvetica,sans-Serif\" font-size=\"14.00\" fill=\"#000000\">class = X</text>\n</g>\n<!-- 12&#45;&gt;14 -->\n<g id=\"edge14\" class=\"edge\">\n<title>12&#45;&gt;14</title>\n<path fill=\"none\" stroke=\"#000000\" d=\"M882.8967,-103.9815C894.3838,-94.4232 906.5897,-84.2668 918.0367,-74.7419\"/>\n<polygon fill=\"#000000\" stroke=\"#000000\" points=\"920.3739,-77.3503 925.8221,-68.2637 915.8965,-71.9695 920.3739,-77.3503\"/>\n</g>\n</g>\n</svg>\n"
          },
          "metadata": {},
          "execution_count": 14
        }
      ]
    },
    {
      "cell_type": "markdown",
      "metadata": {
        "id": "d_z7k_RUk5J3"
      },
      "source": [
        "#### Feature importance in Decision trees\n",
        "강의에서 다룬 Variable Importance Measure와 같음.\n",
        "각각의 예측변수가 decision에 있어서 얼마나 중요한지 0과 1사이의 값으로 모두 합쳐서 1이 되도록 나타냄"
      ]
    },
    {
      "cell_type": "code",
      "metadata": {
        "id": "019PGSynhTWd",
        "colab": {
          "base_uri": "https://localhost:8080/",
          "height": 388
        },
        "outputId": "4017615b-7fdd-4a1e-e3cb-c69b7b556ca5"
      },
      "source": [
        "def plot_feature_importances_diabetes(model):\n",
        "    plt.figure(figsize=(8,6))\n",
        "    n_features = 8\n",
        "    plt.barh(range(n_features), model.feature_importances_, align='center')\n",
        "    plt.yticks(np.arange(n_features), diabetes_features)\n",
        "    plt.xlabel(\"Feature importance\")\n",
        "    plt.ylabel(\"Feature\")\n",
        "    plt.ylim(-1, n_features)\n",
        "\n",
        "plot_feature_importances_diabetes(clf)"
      ],
      "execution_count": null,
      "outputs": [
        {
          "output_type": "display_data",
          "data": {
            "text/plain": [
              "<Figure size 576x432 with 1 Axes>"
            ],
            "image/png": "[encoded data removed]"
          },
          "metadata": {
            "needs_background": "light"
          }
        }
      ]
    },
    {
      "cell_type": "markdown",
      "metadata": {
        "id": "lFtkYOIjk5J4"
      },
      "source": [
        "### Random Forest"
      ]
    },
    {
      "cell_type": "markdown",
      "metadata": {
        "id": "1mY2i8oOk5J5"
      },
      "source": [
        "diabetes dataset에 100개의 트리로 구성된 Random Forest를 적용해보자."
      ]
    },
    {
      "cell_type": "code",
      "metadata": {
        "id": "O3DjInePk5J5",
        "colab": {
          "base_uri": "https://localhost:8080/"
        },
        "outputId": "2d149a5c-ee47-42b3-a303-3d27f1186893"
      },
      "source": [
        "from sklearn.ensemble import RandomForestClassifier\n",
        "\n",
        "rf = RandomForestClassifier(n_estimators=100, random_state=0)\n",
        "rf.fit(x_train, y_train)\n",
        "print(\"Accuracy on training set: {:.3f}\".format(rf.score(x_train, y_train)))\n",
        "print(\"Accuracy on test set: {:.3f}\".format(rf.score(x_test, y_test)))"
      ],
      "execution_count": null,
      "outputs": [
        {
          "output_type": "stream",
          "name": "stdout",
          "text": [
            "Accuracy on training set: 1.000\n",
            "Accuracy on test set: 0.754\n"
          ]
        }
      ]
    },
    {
      "cell_type": "markdown",
      "metadata": {
        "id": "BWJoaMgNk5J5"
      },
      "source": [
        "75.4%의 성능으로, Single tree 모델보다 성능이 떨어짐. 또한, Overfitting됨\n",
        "따라서 max_features를 줄이고, max_depth를 준다."
      ]
    },
    {
      "cell_type": "code",
      "metadata": {
        "id": "8fKFfSZLk5J6",
        "colab": {
          "base_uri": "https://localhost:8080/"
        },
        "outputId": "c9450f33-7e99-47d0-8209-c6e0889a11bc"
      },
      "source": [
        "rf1 = RandomForestClassifier(max_features=2, max_depth=3, n_estimators=100, random_state=0)\n",
        "rf1.fit(x_train, y_train)\n",
        "print(\"Accuracy on training set: {:.3f}\".format(rf1.score(x_train, y_train)))\n",
        "print(\"Accuracy on test set: {:.3f}\".format(rf1.score(x_test, y_test)))"
      ],
      "execution_count": null,
      "outputs": [
        {
          "output_type": "stream",
          "name": "stdout",
          "text": [
            "Accuracy on training set: 0.792\n",
            "Accuracy on test set: 0.771\n"
          ]
        }
      ]
    },
    {
      "cell_type": "markdown",
      "metadata": {
        "id": "PkZikP-dk5J6"
      },
      "source": [
        "#### Feature importance in Random Forest"
      ]
    },
    {
      "cell_type": "code",
      "metadata": {
        "id": "wGc-5POfk5J6",
        "colab": {
          "base_uri": "https://localhost:8080/",
          "height": 388
        },
        "outputId": "ca2bbbc5-f9df-49a7-bd38-5e9a2e1e298a"
      },
      "source": [
        "plot_feature_importances_diabetes(rf)"
      ],
      "execution_count": null,
      "outputs": [
        {
          "output_type": "display_data",
          "data": {
            "text/plain": [
              "<Figure size 576x432 with 1 Axes>"
            ],
            "image/png": "[encoded data removed]"
          },
          "metadata": {
            "needs_background": "light"
          }
        }
      ]
    },
    {
      "cell_type": "markdown",
      "metadata": {
        "collapsed": true,
        "id": "Ruh1N9auk5J7"
      },
      "source": [
        "Single tree와 마찬가지로 글루코스와 BMI의 중요도가 높음. 반면, Random forest의 randomness 때문에 더 다양한 변수들을 고려하는걸 볼 수 있다."
      ]
    },
    {
      "cell_type": "markdown",
      "metadata": {
        "id": "uXZFkj0Lk5J7"
      },
      "source": [
        "### Gradient Boosting"
      ]
    },
    {
      "cell_type": "code",
      "metadata": {
        "id": "hGA4ilDfk5J7",
        "colab": {
          "base_uri": "https://localhost:8080/"
        },
        "outputId": "ca2c05f5-f86f-490a-dc6c-509510dcd8fd"
      },
      "source": [
        "from sklearn.ensemble import GradientBoostingClassifier\n",
        "\n",
        "gb = GradientBoostingClassifier(random_state=0)\n",
        "gb.fit(x_train, y_train)\n",
        "\n",
        "print(\"Accuracy on training set: {:.3f}\".format(gb.score(x_train, y_train)))\n",
        "print(\"Accuracy on test set: {:.3f}\".format(gb.score(x_test, y_test)))"
      ],
      "execution_count": null,
      "outputs": [
        {
          "output_type": "stream",
          "name": "stdout",
          "text": [
            "Accuracy on training set: 0.914\n",
            "Accuracy on test set: 0.771\n"
          ]
        }
      ]
    },
    {
      "cell_type": "markdown",
      "metadata": {
        "id": "rd9XZ-ZJk5J8"
      },
      "source": [
        "overfitting을 줄이기 위해서, maximum depth로 pre-pruning을 해준다."
      ]
    },
    {
      "cell_type": "code",
      "metadata": {
        "id": "VaSErXVkk5J8",
        "colab": {
          "base_uri": "https://localhost:8080/"
        },
        "outputId": "5cf33e82-8ac9-4c6c-da64-13b0fd9b5c4f"
      },
      "source": [
        "gb1 = GradientBoostingClassifier(random_state=0, max_depth=2) # by deafult 3\n",
        "gb1.fit(x_train, y_train)\n",
        "\n",
        "print(\"Accuracy on training set: {:.3f}\".format(gb1.score(x_train, y_train)))\n",
        "print(\"Accuracy on test set: {:.3f}\".format(gb1.score(x_test, y_test)))"
      ],
      "execution_count": null,
      "outputs": [
        {
          "output_type": "stream",
          "name": "stdout",
          "text": [
            "Accuracy on training set: 0.855\n",
            "Accuracy on test set: 0.754\n"
          ]
        }
      ]
    },
    {
      "cell_type": "code",
      "metadata": {
        "id": "YzlTG8y0k5J8",
        "colab": {
          "base_uri": "https://localhost:8080/"
        },
        "outputId": "f4733ae2-1be5-4493-aac0-2317afda7c2f"
      },
      "source": [
        "gb2 = GradientBoostingClassifier(random_state=0, learning_rate=0.01) # by default 0.1\n",
        "gb2.fit(x_train, y_train)\n",
        "\n",
        "print(\"Accuracy on training set: {:.3f}\".format(gb2.score(x_train, y_train)))\n",
        "print(\"Accuracy on test set: {:.3f}\".format(gb2.score(x_test, y_test)))"
      ],
      "execution_count": null,
      "outputs": [
        {
          "output_type": "stream",
          "name": "stdout",
          "text": [
            "Accuracy on training set: 0.797\n",
            "Accuracy on test set: 0.754\n"
          ]
        }
      ]
    },
    {
      "cell_type": "markdown",
      "metadata": {
        "id": "x-jGr7N6k5J8"
      },
      "source": [
        "두 방법 모두 모델의 complexity를 줄이면서 training set의 성능이 test set과 가까워졌다. 그러나 test set에서의 성능이 딱히 개선되지 않았다."
      ]
    },
    {
      "cell_type": "markdown",
      "metadata": {
        "id": "gbm_SOFtwV1n"
      },
      "source": [
        "#### Feature importance in Gradient Boosting"
      ]
    },
    {
      "cell_type": "code",
      "metadata": {
        "id": "L2vluJHqk5J9",
        "colab": {
          "base_uri": "https://localhost:8080/",
          "height": 388
        },
        "outputId": "7accd7d4-62da-4d8f-ad53-d78abef778e1"
      },
      "source": [
        "plot_feature_importances_diabetes(gb1)"
      ],
      "execution_count": null,
      "outputs": [
        {
          "output_type": "display_data",
          "data": {
            "text/plain": [
              "<Figure size 576x432 with 1 Axes>"
            ],
            "image/png": "[encoded data removed]"
          },
          "metadata": {
            "needs_background": "light"
          }
        }
      ]
    },
    {
      "cell_type": "markdown",
      "metadata": {
        "id": "TnHHpBVIk5J9"
      },
      "source": [
        "Random forest의 feature importance와 비슷함."
      ]
    },
    {
      "cell_type": "markdown",
      "metadata": {
        "id": "er4MgDYmsoj0"
      },
      "source": [
        "\n",
        "\n",
        "---\n",
        "## Regression Tree\n",
        "\n"
      ]
    },
    {
      "cell_type": "markdown",
      "metadata": {
        "id": "7g6eCg-xvJXi"
      },
      "source": [
        "### Simple regression tree using synthetic data"
      ]
    },
    {
      "cell_type": "code",
      "metadata": {
        "id": "T8FZNrHVsnsr"
      },
      "source": [
        "# Import the necessary modules and libraries\n",
        "import numpy as np\n",
        "from sklearn.tree import DecisionTreeRegressor\n",
        "import matplotlib.pyplot as plt"
      ],
      "execution_count": null,
      "outputs": []
    },
    {
      "cell_type": "code",
      "metadata": {
        "id": "fNMTmYDPs_l-"
      },
      "source": [
        "# Create a random dataset\n",
        "rng = np.random.RandomState(1)\n",
        "X = np.sort(5 * rng.rand(80, 1), axis=0)\n",
        "y = np.sin(X).ravel()   # ravel() = 2차원을 1차원으로 변환\n",
        "y[::5] += 3 * (0.5 - rng.rand(16))    # ::5 -> index를 5의 간격으로 띄워서 본다 & noise를 삽입한다"
      ],
      "execution_count": null,
      "outputs": []
    },
    {
      "cell_type": "code",
      "metadata": {
        "id": "vLclP9BBtAgY",
        "colab": {
          "base_uri": "https://localhost:8080/"
        },
        "outputId": "9a805141-30e9-44db-a8df-fbb4d9f0ed37"
      },
      "source": [
        "# Fit regression model\n",
        "regr_1 = DecisionTreeRegressor(max_depth=2)\n",
        "regr_2 = DecisionTreeRegressor(max_depth=5)\n",
        "regr_1.fit(X, y)\n",
        "regr_2.fit(X, y)"
      ],
      "execution_count": null,
      "outputs": [
        {
          "output_type": "execute_result",
          "data": {
            "text/plain": [
              "DecisionTreeRegressor(max_depth=5)"
            ]
          },
          "metadata": {},
          "execution_count": 37
        }
      ]
    },
    {
      "cell_type": "code",
      "metadata": {
        "id": "M4EzLKGwtBRH"
      },
      "source": [
        "# Predict\n",
        "X_test = np.arange(0.0, 5.0, 0.01)[:, np.newaxis]\n",
        "y_1 = regr_1.predict(X_test)\n",
        "y_2 = regr_2.predict(X_test)"
      ],
      "execution_count": null,
      "outputs": []
    },
    {
      "cell_type": "code",
      "metadata": {
        "id": "bKV2DhwjtCET",
        "colab": {
          "base_uri": "https://localhost:8080/",
          "height": 295
        },
        "outputId": "d88dc4e8-5cd5-4652-a346-a9bdd9e0a36b"
      },
      "source": [
        "# Plot the results\n",
        "plt.figure()\n",
        "plt.scatter(X, y, s=20, edgecolor=\"black\",\n",
        "            c=\"darkorange\", label=\"data\")\n",
        "plt.plot(X_test, y_1, color=\"cornflowerblue\",\n",
        "         label=\"max_depth=2\", linewidth=2)\n",
        "plt.plot(X_test, y_2, color=\"yellowgreen\", label=\"max_depth=5\", linewidth=2)\n",
        "plt.xlabel(\"data\")\n",
        "plt.ylabel(\"target\")\n",
        "plt.title(\"Decision Tree Regression\")\n",
        "plt.legend()\n",
        "plt.show()\n",
        "\n",
        "# max depth를 줄여 noise data들에 대해 overfitting되지 않도록 하는 것이 낫다"
      ],
      "execution_count": null,
      "outputs": [
        {
          "output_type": "display_data",
          "data": {
            "text/plain": [
              "<Figure size 432x288 with 1 Axes>"
            ],
            "image/png": "[encoded data removed]"
          },
          "metadata": {
            "needs_background": "light"
          }
        }
      ]
    },
    {
      "cell_type": "markdown",
      "metadata": {
        "id": "y5Zlc0A0wimF"
      },
      "source": [
        "### Regression Tree with Tada ETA data"
      ]
    },
    {
      "cell_type": "markdown",
      "metadata": {
        "id": "X2N0yhHUyVAV"
      },
      "source": [
        "\n",
        "\n",
        "*   ATA: Actual Time of Arrival\n",
        "*   ETA: Expected Time of Arrival\n",
        "*   api_eta: 앱 API에서 예측된 ETA\n",
        "\n"
      ]
    },
    {
      "cell_type": "code",
      "metadata": {
        "id": "THzp4Jbj2_WJ",
        "colab": {
          "base_uri": "https://localhost:8080/",
          "height": 209
        },
        "outputId": "6ffcd815-b83c-4497-a0c0-46d0dfd0d56c"
      },
      "source": [
        "tada_eta = pd.read_excel('/content/drive/MyDrive/Colab Notebooks/data/tada_eta.xlsx')\n",
        "print(tada_eta.columns)\n",
        "tada_eta.head()"
      ],
      "execution_count": null,
      "outputs": [
        {
          "output_type": "error",
          "ename": "NameError",
          "evalue": "ignored",
          "traceback": [
            "\u001b[0;31m---------------------------------------------------------------------------\u001b[0m",
            "\u001b[0;31mNameError\u001b[0m                                 Traceback (most recent call last)",
            "\u001b[0;32m<ipython-input-2-cddaea78c76f>\u001b[0m in \u001b[0;36m<module>\u001b[0;34m()\u001b[0m\n\u001b[0;32m----> 1\u001b[0;31m \u001b[0mtada_eta\u001b[0m \u001b[0;34m=\u001b[0m \u001b[0mpd\u001b[0m\u001b[0;34m.\u001b[0m\u001b[0mread_excel\u001b[0m\u001b[0;34m(\u001b[0m\u001b[0;34m'/content/drive/MyDrive/Colab Notebooks/data/tada_eta.xlsx'\u001b[0m\u001b[0;34m)\u001b[0m\u001b[0;34m\u001b[0m\u001b[0;34m\u001b[0m\u001b[0m\n\u001b[0m\u001b[1;32m      2\u001b[0m \u001b[0mprint\u001b[0m\u001b[0;34m(\u001b[0m\u001b[0mtada_eta\u001b[0m\u001b[0;34m.\u001b[0m\u001b[0mcolumns\u001b[0m\u001b[0;34m)\u001b[0m\u001b[0;34m\u001b[0m\u001b[0;34m\u001b[0m\u001b[0m\n\u001b[1;32m      3\u001b[0m \u001b[0mtada_eta\u001b[0m\u001b[0;34m.\u001b[0m\u001b[0mhead\u001b[0m\u001b[0;34m(\u001b[0m\u001b[0;34m)\u001b[0m\u001b[0;34m\u001b[0m\u001b[0;34m\u001b[0m\u001b[0m\n",
            "\u001b[0;31mNameError\u001b[0m: name 'pd' is not defined"
          ]
        }
      ]
    },
    {
      "cell_type": "code",
      "metadata": {
        "id": "wRJxzcksZMar",
        "colab": {
          "base_uri": "https://localhost:8080/",
          "height": 242
        },
        "outputId": "81b9d34d-d748-407c-c0e3-27a5a691f8e8"
      },
      "source": [
        "# pickup과 driver간의 거리를 계산하여 X100,000배로 적당히 scaling 작업\n",
        "# 의미 없는 column들은 drop\n",
        "\n",
        "tada_eta['distance'] = ((tada_eta['pickup_lat']-tada_eta['driver_lat'])**2 + (tada_eta['pickup_lng']-tada_eta['driver_lng'])**2)*100000\n",
        "tada_eta = tada_eta.drop(['id', 'created_at_kst', 'driver_id', 'pickup_lng', 'pickup_lat', 'driver_lng','driver_lat','pickup_gu'],1)\n",
        "tada_eta.head()\n",
        "\n",
        "# sklearn의 tree는 범주 데이터는 다루지 못함. 이 경우에 one-hot encoding은 비효율적. 구 데이터도 활용하고 싶다면 h2o 참고"
      ],
      "execution_count": null,
      "outputs": [
        {
          "output_type": "stream",
          "name": "stderr",
          "text": [
            "/usr/local/lib/python3.7/dist-packages/ipykernel_launcher.py:4: FutureWarning: In a future version of pandas all arguments of DataFrame.drop except for the argument 'labels' will be keyword-only\n",
            "  after removing the cwd from sys.path.\n"
          ]
        },
        {
          "output_type": "execute_result",
          "data": {
            "text/plain": [
              "     ATA  api_eta  month  hour    distance\n",
              "0  10.60     5.65     12     0   52.400202\n",
              "1   9.20     8.60     12     0   44.465889\n",
              "2  10.85    10.53     12     0  149.731535\n",
              "3   5.52     1.92      7     0    1.000535\n",
              "4   8.60     7.10      7     0   35.014797"
            ],
            "text/html": [
              "\n",
              "  <div id=\"df-fc6b638b-e6b5-46bc-944e-f47355992fda\">\n",
              "    <div class=\"colab-df-container\">\n",
              "      <div>\n",
              "<style scoped>\n",
              "    .dataframe tbody tr th:only-of-type {\n",
              "        vertical-align: middle;\n",
              "    }\n",
              "\n",
              "    .dataframe tbody tr th {\n",
              "        vertical-align: top;\n",
              "    }\n",
              "\n",
              "    .dataframe thead th {\n",
              "        text-align: right;\n",
              "    }\n",
              "</style>\n",
              "<table border=\"1\" class=\"dataframe\">\n",
              "  <thead>\n",
              "    <tr style=\"text-align: right;\">\n",
              "      <th></th>\n",
              "      <th>ATA</th>\n",
              "      <th>api_eta</th>\n",
              "      <th>month</th>\n",
              "      <th>hour</th>\n",
              "      <th>distance</th>\n",
              "    </tr>\n",
              "  </thead>\n",
              "  <tbody>\n",
              "    <tr>\n",
              "      <th>0</th>\n",
              "      <td>10.60</td>\n",
              "      <td>5.65</td>\n",
              "      <td>12</td>\n",
              "      <td>0</td>\n",
              "      <td>52.400202</td>\n",
              "    </tr>\n",
              "    <tr>\n",
              "      <th>1</th>\n",
              "      <td>9.20</td>\n",
              "      <td>8.60</td>\n",
              "      <td>12</td>\n",
              "      <td>0</td>\n",
              "      <td>44.465889</td>\n",
              "    </tr>\n",
              "    <tr>\n",
              "      <th>2</th>\n",
              "      <td>10.85</td>\n",
              "      <td>10.53</td>\n",
              "      <td>12</td>\n",
              "      <td>0</td>\n",
              "      <td>149.731535</td>\n",
              "    </tr>\n",
              "    <tr>\n",
              "      <th>3</th>\n",
              "      <td>5.52</td>\n",
              "      <td>1.92</td>\n",
              "      <td>7</td>\n",
              "      <td>0</td>\n",
              "      <td>1.000535</td>\n",
              "    </tr>\n",
              "    <tr>\n",
              "      <th>4</th>\n",
              "      <td>8.60</td>\n",
              "      <td>7.10</td>\n",
              "      <td>7</td>\n",
              "      <td>0</td>\n",
              "      <td>35.014797</td>\n",
              "    </tr>\n",
              "  </tbody>\n",
              "</table>\n",
              "</div>\n",
              "      <button class=\"colab-df-convert\" onclick=\"convertToInteractive('df-fc6b638b-e6b5-46bc-944e-f47355992fda')\"\n",
              "              title=\"Convert this dataframe to an interactive table.\"\n",
              "              style=\"display:none;\">\n",
              "        \n",
              "  <svg xmlns=\"http://www.w3.org/2000/svg\" height=\"24px\"viewBox=\"0 0 24 24\"\n",
              "       width=\"24px\">\n",
              "    <path d=\"M0 0h24v24H0V0z\" fill=\"none\"/>\n",
              "    <path d=\"M18.56 5.44l.94 2.06.94-2.06 2.06-.94-2.06-.94-.94-2.06-.94 2.06-2.06.94zm-11 1L8.5 8.5l.94-2.06 2.06-.94-2.06-.94L8.5 2.5l-.94 2.06-2.06.94zm10 10l.94 2.06.94-2.06 2.06-.94-2.06-.94-.94-2.06-.94 2.06-2.06.94z\"/><path d=\"M17.41 7.96l-1.37-1.37c-.4-.4-.92-.59-1.43-.59-.52 0-1.04.2-1.43.59L10.3 9.45l-7.72 7.72c-.78.78-.78 2.05 0 2.83L4 21.41c.39.39.9.59 1.41.59.51 0 1.02-.2 1.41-.59l7.78-7.78 2.81-2.81c.8-.78.8-2.07 0-2.86zM5.41 20L4 18.59l7.72-7.72 1.47 1.35L5.41 20z\"/>\n",
              "  </svg>\n",
              "      </button>\n",
              "      \n",
              "  <style>\n",
              "    .colab-df-container {\n",
              "      display:flex;\n",
              "      flex-wrap:wrap;\n",
              "      gap: 12px;\n",
              "    }\n",
              "\n",
              "    .colab-df-convert {\n",
              "      background-color: #E8F0FE;\n",
              "      border: none;\n",
              "      border-radius: 50%;\n",
              "      cursor: pointer;\n",
              "      display: none;\n",
              "      fill: #1967D2;\n",
              "      height: 32px;\n",
              "      padding: 0 0 0 0;\n",
              "      width: 32px;\n",
              "    }\n",
              "\n",
              "    .colab-df-convert:hover {\n",
              "      background-color: #E2EBFA;\n",
              "      box-shadow: 0px 1px 2px rgba(60, 64, 67, 0.3), 0px 1px 3px 1px rgba(60, 64, 67, 0.15);\n",
              "      fill: #174EA6;\n",
              "    }\n",
              "\n",
              "    [theme=dark] .colab-df-convert {\n",
              "      background-color: #3B4455;\n",
              "      fill: #D2E3FC;\n",
              "    }\n",
              "\n",
              "    [theme=dark] .colab-df-convert:hover {\n",
              "      background-color: #434B5C;\n",
              "      box-shadow: 0px 1px 3px 1px rgba(0, 0, 0, 0.15);\n",
              "      filter: drop-shadow(0px 1px 2px rgba(0, 0, 0, 0.3));\n",
              "      fill: #FFFFFF;\n",
              "    }\n",
              "  </style>\n",
              "\n",
              "      <script>\n",
              "        const buttonEl =\n",
              "          document.querySelector('#df-fc6b638b-e6b5-46bc-944e-f47355992fda button.colab-df-convert');\n",
              "        buttonEl.style.display =\n",
              "          google.colab.kernel.accessAllowed ? 'block' : 'none';\n",
              "\n",
              "        async function convertToInteractive(key) {\n",
              "          const element = document.querySelector('#df-fc6b638b-e6b5-46bc-944e-f47355992fda');\n",
              "          const dataTable =\n",
              "            await google.colab.kernel.invokeFunction('convertToInteractive',\n",
              "                                                     [key], {});\n",
              "          if (!dataTable) return;\n",
              "\n",
              "          const docLinkHtml = 'Like what you see? Visit the ' +\n",
              "            '<a target=\"_blank\" href=https://colab.research.google.com/notebooks/data_table.ipynb>data table notebook</a>'\n",
              "            + ' to learn more about interactive tables.';\n",
              "          element.innerHTML = '';\n",
              "          dataTable['output_type'] = 'display_data';\n",
              "          await google.colab.output.renderOutput(dataTable, element);\n",
              "          const docLink = document.createElement('div');\n",
              "          docLink.innerHTML = docLinkHtml;\n",
              "          element.appendChild(docLink);\n",
              "        }\n",
              "      </script>\n",
              "    </div>\n",
              "  </div>\n",
              "  "
            ]
          },
          "metadata": {},
          "execution_count": 71
        }
      ]
    },
    {
      "cell_type": "code",
      "metadata": {
        "id": "uEwB3AeKyD77",
        "colab": {
          "base_uri": "https://localhost:8080/",
          "height": 206
        },
        "outputId": "7326ae4a-bf76-46bf-aa76-c0dd7b31b28e"
      },
      "source": [
        "# frac = 1이면 전체 data 갯수만큼 sampling(비복원 추출) -> 순서를 섞어주는 작업\n",
        "\n",
        "tada_eta = tada_eta.sample(frac=1, random_state=0).reset_index(drop=True)   # 원래 코드에는 random_state X\n",
        "tada_eta.head()"
      ],
      "execution_count": null,
      "outputs": [
        {
          "output_type": "execute_result",
          "data": {
            "text/plain": [
              "     ATA  api_eta  month  hour   distance\n",
              "0   6.13     8.32     12    22  44.521977\n",
              "1   5.37     3.05     12    11   3.989066\n",
              "2   6.27     5.00      7    19   4.814699\n",
              "3  10.52     8.47     12    21  77.341173\n",
              "4  12.45     6.65      7    12  14.888851"
            ],
            "text/html": [
              "\n",
              "  <div id=\"df-7f633849-0b0f-485b-9a78-901028ad7287\">\n",
              "    <div class=\"colab-df-container\">\n",
              "      <div>\n",
              "<style scoped>\n",
              "    .dataframe tbody tr th:only-of-type {\n",
              "        vertical-align: middle;\n",
              "    }\n",
              "\n",
              "    .dataframe tbody tr th {\n",
              "        vertical-align: top;\n",
              "    }\n",
              "\n",
              "    .dataframe thead th {\n",
              "        text-align: right;\n",
              "    }\n",
              "</style>\n",
              "<table border=\"1\" class=\"dataframe\">\n",
              "  <thead>\n",
              "    <tr style=\"text-align: right;\">\n",
              "      <th></th>\n",
              "      <th>ATA</th>\n",
              "      <th>api_eta</th>\n",
              "      <th>month</th>\n",
              "      <th>hour</th>\n",
              "      <th>distance</th>\n",
              "    </tr>\n",
              "  </thead>\n",
              "  <tbody>\n",
              "    <tr>\n",
              "      <th>0</th>\n",
              "      <td>6.13</td>\n",
              "      <td>8.32</td>\n",
              "      <td>12</td>\n",
              "      <td>22</td>\n",
              "      <td>44.521977</td>\n",
              "    </tr>\n",
              "    <tr>\n",
              "      <th>1</th>\n",
              "      <td>5.37</td>\n",
              "      <td>3.05</td>\n",
              "      <td>12</td>\n",
              "      <td>11</td>\n",
              "      <td>3.989066</td>\n",
              "    </tr>\n",
              "    <tr>\n",
              "      <th>2</th>\n",
              "      <td>6.27</td>\n",
              "      <td>5.00</td>\n",
              "      <td>7</td>\n",
              "      <td>19</td>\n",
              "      <td>4.814699</td>\n",
              "    </tr>\n",
              "    <tr>\n",
              "      <th>3</th>\n",
              "      <td>10.52</td>\n",
              "      <td>8.47</td>\n",
              "      <td>12</td>\n",
              "      <td>21</td>\n",
              "      <td>77.341173</td>\n",
              "    </tr>\n",
              "    <tr>\n",
              "      <th>4</th>\n",
              "      <td>12.45</td>\n",
              "      <td>6.65</td>\n",
              "      <td>7</td>\n",
              "      <td>12</td>\n",
              "      <td>14.888851</td>\n",
              "    </tr>\n",
              "  </tbody>\n",
              "</table>\n",
              "</div>\n",
              "      <button class=\"colab-df-convert\" onclick=\"convertToInteractive('df-7f633849-0b0f-485b-9a78-901028ad7287')\"\n",
              "              title=\"Convert this dataframe to an interactive table.\"\n",
              "              style=\"display:none;\">\n",
              "        \n",
              "  <svg xmlns=\"http://www.w3.org/2000/svg\" height=\"24px\"viewBox=\"0 0 24 24\"\n",
              "       width=\"24px\">\n",
              "    <path d=\"M0 0h24v24H0V0z\" fill=\"none\"/>\n",
              "    <path d=\"M18.56 5.44l.94 2.06.94-2.06 2.06-.94-2.06-.94-.94-2.06-.94 2.06-2.06.94zm-11 1L8.5 8.5l.94-2.06 2.06-.94-2.06-.94L8.5 2.5l-.94 2.06-2.06.94zm10 10l.94 2.06.94-2.06 2.06-.94-2.06-.94-.94-2.06-.94 2.06-2.06.94z\"/><path d=\"M17.41 7.96l-1.37-1.37c-.4-.4-.92-.59-1.43-.59-.52 0-1.04.2-1.43.59L10.3 9.45l-7.72 7.72c-.78.78-.78 2.05 0 2.83L4 21.41c.39.39.9.59 1.41.59.51 0 1.02-.2 1.41-.59l7.78-7.78 2.81-2.81c.8-.78.8-2.07 0-2.86zM5.41 20L4 18.59l7.72-7.72 1.47 1.35L5.41 20z\"/>\n",
              "  </svg>\n",
              "      </button>\n",
              "      \n",
              "  <style>\n",
              "    .colab-df-container {\n",
              "      display:flex;\n",
              "      flex-wrap:wrap;\n",
              "      gap: 12px;\n",
              "    }\n",
              "\n",
              "    .colab-df-convert {\n",
              "      background-color: #E8F0FE;\n",
              "      border: none;\n",
              "      border-radius: 50%;\n",
              "      cursor: pointer;\n",
              "      display: none;\n",
              "      fill: #1967D2;\n",
              "      height: 32px;\n",
              "      padding: 0 0 0 0;\n",
              "      width: 32px;\n",
              "    }\n",
              "\n",
              "    .colab-df-convert:hover {\n",
              "      background-color: #E2EBFA;\n",
              "      box-shadow: 0px 1px 2px rgba(60, 64, 67, 0.3), 0px 1px 3px 1px rgba(60, 64, 67, 0.15);\n",
              "      fill: #174EA6;\n",
              "    }\n",
              "\n",
              "    [theme=dark] .colab-df-convert {\n",
              "      background-color: #3B4455;\n",
              "      fill: #D2E3FC;\n",
              "    }\n",
              "\n",
              "    [theme=dark] .colab-df-convert:hover {\n",
              "      background-color: #434B5C;\n",
              "      box-shadow: 0px 1px 3px 1px rgba(0, 0, 0, 0.15);\n",
              "      filter: drop-shadow(0px 1px 2px rgba(0, 0, 0, 0.3));\n",
              "      fill: #FFFFFF;\n",
              "    }\n",
              "  </style>\n",
              "\n",
              "      <script>\n",
              "        const buttonEl =\n",
              "          document.querySelector('#df-7f633849-0b0f-485b-9a78-901028ad7287 button.colab-df-convert');\n",
              "        buttonEl.style.display =\n",
              "          google.colab.kernel.accessAllowed ? 'block' : 'none';\n",
              "\n",
              "        async function convertToInteractive(key) {\n",
              "          const element = document.querySelector('#df-7f633849-0b0f-485b-9a78-901028ad7287');\n",
              "          const dataTable =\n",
              "            await google.colab.kernel.invokeFunction('convertToInteractive',\n",
              "                                                     [key], {});\n",
              "          if (!dataTable) return;\n",
              "\n",
              "          const docLinkHtml = 'Like what you see? Visit the ' +\n",
              "            '<a target=\"_blank\" href=https://colab.research.google.com/notebooks/data_table.ipynb>data table notebook</a>'\n",
              "            + ' to learn more about interactive tables.';\n",
              "          element.innerHTML = '';\n",
              "          dataTable['output_type'] = 'display_data';\n",
              "          await google.colab.output.renderOutput(dataTable, element);\n",
              "          const docLink = document.createElement('div');\n",
              "          docLink.innerHTML = docLinkHtml;\n",
              "          element.appendChild(docLink);\n",
              "        }\n",
              "      </script>\n",
              "    </div>\n",
              "  </div>\n",
              "  "
            ]
          },
          "metadata": {},
          "execution_count": 72
        }
      ]
    },
    {
      "cell_type": "code",
      "metadata": {
        "id": "JSvO1kHyxYBB",
        "colab": {
          "base_uri": "https://localhost:8080/"
        },
        "outputId": "5101a6eb-eb28-4897-b6e2-d500dcd022eb"
      },
      "source": [
        "tada_eta.shape"
      ],
      "execution_count": null,
      "outputs": [
        {
          "output_type": "execute_result",
          "data": {
            "text/plain": [
              "(13916, 5)"
            ]
          },
          "metadata": {},
          "execution_count": 73
        }
      ]
    },
    {
      "cell_type": "code",
      "metadata": {
        "id": "0MM11kIzxuQN"
      },
      "source": [
        "train = tada_eta[:12000]       # training set = 1 ~ 12,000번째 data\n",
        "test = tada_eta[12000:]        # training set = 12,001 ~ 13,916번째 data"
      ],
      "execution_count": null,
      "outputs": []
    },
    {
      "cell_type": "code",
      "metadata": {
        "id": "G9hpdHGLohFg",
        "colab": {
          "base_uri": "https://localhost:8080/"
        },
        "outputId": "0f6bfd4a-c09b-41a1-d849-68359f5d492a"
      },
      "source": [
        "x_train = np.asarray(train.drop('ATA',1))\n",
        "y_train = np.asarray(train['ATA'])\n",
        "x_test = np.asarray(test.drop('ATA',1))\n",
        "y_test = np.asarray(test['ATA'])\n",
        "eta_features = [x for i,x in enumerate(tada_eta.columns) if i!=0]"
      ],
      "execution_count": null,
      "outputs": [
        {
          "output_type": "stream",
          "name": "stderr",
          "text": [
            "/usr/local/lib/python3.7/dist-packages/ipykernel_launcher.py:1: FutureWarning: In a future version of pandas all arguments of DataFrame.drop except for the argument 'labels' will be keyword-only\n",
            "  \"\"\"Entry point for launching an IPython kernel.\n",
            "/usr/local/lib/python3.7/dist-packages/ipykernel_launcher.py:3: FutureWarning: In a future version of pandas all arguments of DataFrame.drop except for the argument 'labels' will be keyword-only\n",
            "  This is separate from the ipykernel package so we can avoid doing imports until\n"
          ]
        }
      ]
    },
    {
      "cell_type": "code",
      "metadata": {
        "id": "X4qxqNuSifK-",
        "colab": {
          "base_uri": "https://localhost:8080/"
        },
        "outputId": "10fdfea5-200e-497f-ae4e-a03df134bf52"
      },
      "source": [
        "eta_features"
      ],
      "execution_count": null,
      "outputs": [
        {
          "output_type": "execute_result",
          "data": {
            "text/plain": [
              "['api_eta', 'month', 'hour', 'distance']"
            ]
          },
          "metadata": {},
          "execution_count": 76
        }
      ]
    },
    {
      "cell_type": "markdown",
      "metadata": {
        "id": "ZLoU-MLa5NcH"
      },
      "source": [
        "#### Gradient Boosting 사용"
      ]
    },
    {
      "cell_type": "code",
      "metadata": {
        "id": "Stsb13ZyySzY"
      },
      "source": [
        "params = {'n_estimators': 500,      # tree의 갯수\n",
        "          'max_depth': 3,\n",
        "          'min_samples_leaf': 5,\n",
        "          'learning_rate': 0.05,\n",
        "          'loss': 'ls'              # ls = list-squared, 'sume of squared error'와 같음\n",
        "         } "
      ],
      "execution_count": null,
      "outputs": []
    },
    {
      "cell_type": "code",
      "metadata": {
        "id": "kHFZq7yszWj6"
      },
      "source": [
        "from sklearn.metrics import mean_squared_error\n",
        "from sklearn.metrics import mean_absolute_error\n",
        "from sklearn import ensemble"
      ],
      "execution_count": null,
      "outputs": []
    },
    {
      "cell_type": "code",
      "metadata": {
        "id": "VrkliW0yzeii",
        "colab": {
          "base_uri": "https://localhost:8080/"
        },
        "outputId": "cda9a755-a84c-4a06-c742-0ed002566b44"
      },
      "source": [
        "reg = ensemble.GradientBoostingRegressor(**params)\n",
        "reg.fit(x_train, y_train)\n",
        "\n",
        "mse = mean_squared_error(y_test, reg.predict(x_test))\n",
        "print(\"The mean squared error (MSE) on test set: {:.4f}\".format(mse))\n",
        "print(\"The initial error of API ETA on test set: {:.4f}\".format(mean_squared_error(y_test, x_test[:,0]) ))\n",
        "\n",
        "mae = mean_absolute_error(y_test, reg.predict(x_test))\n",
        "print(\"The mean absolute error (MAE) on test set: {:.4f}\".format(mae))\n",
        "print(\"The initial error of API ETA on test set: {:.4f}\".format(mean_absolute_error(y_test, x_test[:,0]) ))"
      ],
      "execution_count": null,
      "outputs": [
        {
          "output_type": "stream",
          "name": "stderr",
          "text": [
            "/usr/local/lib/python3.7/dist-packages/sklearn/ensemble/_gb.py:290: FutureWarning: The loss 'ls' was deprecated in v1.0 and will be removed in version 1.2. Use 'squared_error' which is equivalent.\n",
            "  FutureWarning,\n"
          ]
        },
        {
          "output_type": "stream",
          "name": "stdout",
          "text": [
            "The mean squared error (MSE) on test set: 8.5198\n",
            "The initial error of API ETA on test set: 13.7135\n",
            "The mean absolute error (MAE) on test set: 2.0929\n",
            "The initial error of API ETA on test set: 2.7047\n"
          ]
        }
      ]
    },
    {
      "cell_type": "code",
      "metadata": {
        "id": "YJR65VlX8gmb",
        "colab": {
          "base_uri": "https://localhost:8080/",
          "height": 441
        },
        "outputId": "55520bd3-a4ce-41c5-942e-f7ef66989388"
      },
      "source": [
        "test_score = np.zeros((params['n_estimators'],), dtype=np.float64)\n",
        "for i, y_pred in enumerate(reg.staged_predict(x_test)):\n",
        "    test_score[i] = reg.loss_(y_test, y_pred)\n",
        "\n",
        "fig = plt.figure(figsize=(6, 6))\n",
        "plt.subplot(1, 1, 1)\n",
        "plt.title('Deviance')\n",
        "plt.plot(np.arange(params['n_estimators']) + 1, reg.train_score_, 'b-',\n",
        "         label='Training Set Deviance')\n",
        "plt.plot(np.arange(params['n_estimators']) + 1, test_score, 'r-',\n",
        "         label='Test Set Deviance')\n",
        "plt.legend(loc='upper right')\n",
        "plt.xlabel('Boosting Iterations')\n",
        "plt.ylabel('Deviance')\n",
        "fig.tight_layout()\n",
        "plt.show()"
      ],
      "execution_count": null,
      "outputs": [
        {
          "output_type": "display_data",
          "data": {
            "text/plain": [
              "<Figure size 432x432 with 1 Axes>"
            ],
            "image/png": "[encoded data removed]"
          },
          "metadata": {
            "needs_background": "light"
          }
        }
      ]
    },
    {
      "cell_type": "code",
      "metadata": {
        "id": "YZyyd7E09EI-",
        "colab": {
          "base_uri": "https://localhost:8080/",
          "height": 281
        },
        "outputId": "7e834789-c202-4ecf-c7eb-a7599406d888"
      },
      "source": [
        "feature_importance = reg.feature_importances_\n",
        "sorted_idx = np.argsort(feature_importance)\n",
        "pos = np.arange(sorted_idx.shape[0]) + .5\n",
        "plt.figure()\n",
        "plt.barh(pos, feature_importance[sorted_idx], align='center')\n",
        "plt.yticks(pos, np.array(eta_features)[sorted_idx])\n",
        "plt.title('Feature Importance (MDI)')\n",
        "plt.show()"
      ],
      "execution_count": null,
      "outputs": [
        {
          "output_type": "display_data",
          "data": {
            "text/plain": [
              "<Figure size 432x288 with 1 Axes>"
            ],
            "image/png": "[encoded data removed]"
          },
          "metadata": {
            "needs_background": "light"
          }
        }
      ]
    },
    {
      "cell_type": "markdown",
      "metadata": {
        "id": "Fo0i64ct8Hma"
      },
      "source": [
        "### HW 2: Make a better model for TADA ETA data\n",
        "tree parameter를 바꾸거나, 아예 다른 알고리즘을 사용해도 됨.\n",
        "트레이닝 데이터도 조작해도 되지만, 테스트셋은 조작 금지 \n",
        "\n",
        "```\n",
        "test = tada_eta[12000:]\n",
        "```\n",
        "\n",
        "\n",
        "\n",
        "[Ref.]\n",
        "*   https://scikit-learn.org/stable/modules/tree.html\n",
        "*   https://scikit-learn.org/stable/modules/ensemble.html\n"
      ]
    },
    {
      "cell_type": "code",
      "metadata": {
        "id": "gRSlwkaWmSWW"
      },
      "source": [
        "# mse = mean_squared_error(y_test, reg.predict(x_test))\n",
        "# print(\"The mean squared error (MSE) on test set: {:.4f}\".format(mse))\n",
        "# print(\"The initial error of API ETA on test set: {:.4f}\".format(mean_squared_error(y_test, x_test[:,0]) ))\n",
        "\n",
        "# mae = mean_absolute_error(y_test, reg.predict(x_test))\n",
        "# print(\"The mean absolute error (MAE) on test set: {:.4f}\".format(mae))\n",
        "# print(\"The initial error of API ETA on test set: {:.4f}\".format(mean_absolute_error(y_test, x_test[:,0]) ))"
      ],
      "execution_count": null,
      "outputs": []
    },
    {
      "cell_type": "markdown",
      "source": [
        "### ① Gradient Boosting Parameters 변경"
      ],
      "metadata": {
        "id": "KcJSOWPpWjk9"
      }
    },
    {
      "cell_type": "code",
      "source": [
        "# ① Gradient Boosting Parameters 변경\n",
        "reg = ensemble.GradientBoostingRegressor(\n",
        "           n_estimators=300, \n",
        "           max_depth=3, \n",
        "           min_samples_leaf=100,\n",
        "           learning_rate=0.03,\n",
        "           max_features='sqrt',\n",
        "           loss='ls',\n",
        "           random_state=0\n",
        "           )\n",
        "reg.fit(x_train, y_train)\n",
        "\n",
        "mse = mean_squared_error(y_test, reg.predict(x_test))\n",
        "print(\"The mean squared error (MSE) on test set: {:.4f}\".format(mse))\n",
        "print(\"The initial error of API ETA on test set: {:.4f}\".format(mean_squared_error(y_test, x_test[:,0]) ))\n",
        "\n",
        "mae = mean_absolute_error(y_test, reg.predict(x_test))\n",
        "print(\"The mean absolute error (MAE) on test set: {:.4f}\".format(mae))\n",
        "print(\"The initial error of API ETA on test set: {:.4f}\".format(mean_absolute_error(y_test, x_test[:,0]) ))"
      ],
      "metadata": {
        "colab": {
          "base_uri": "https://localhost:8080/",
          "height": 245
        },
        "id": "1hW_NQrRVizl",
        "outputId": "c917e501-d3c9-4c21-855e-d7f4b9ac7644"
      },
      "execution_count": null,
      "outputs": [
        {
          "output_type": "error",
          "ename": "NameError",
          "evalue": "ignored",
          "traceback": [
            "\u001b[0;31m---------------------------------------------------------------------------\u001b[0m",
            "\u001b[0;31mNameError\u001b[0m                                 Traceback (most recent call last)",
            "\u001b[0;32m<ipython-input-1-b0c7ac5ff812>\u001b[0m in \u001b[0;36m<module>\u001b[0;34m()\u001b[0m\n\u001b[1;32m      1\u001b[0m \u001b[0;31m# ① Gradient Boosting Parameters 변경\u001b[0m\u001b[0;34m\u001b[0m\u001b[0;34m\u001b[0m\u001b[0;34m\u001b[0m\u001b[0m\n\u001b[0;32m----> 2\u001b[0;31m reg = ensemble.GradientBoostingRegressor(\n\u001b[0m\u001b[1;32m      3\u001b[0m            \u001b[0mn_estimators\u001b[0m\u001b[0;34m=\u001b[0m\u001b[0;36m300\u001b[0m\u001b[0;34m,\u001b[0m\u001b[0;34m\u001b[0m\u001b[0;34m\u001b[0m\u001b[0m\n\u001b[1;32m      4\u001b[0m            \u001b[0mmax_depth\u001b[0m\u001b[0;34m=\u001b[0m\u001b[0;36m3\u001b[0m\u001b[0;34m,\u001b[0m\u001b[0;34m\u001b[0m\u001b[0;34m\u001b[0m\u001b[0m\n\u001b[1;32m      5\u001b[0m            \u001b[0mmin_samples_leaf\u001b[0m\u001b[0;34m=\u001b[0m\u001b[0;36m100\u001b[0m\u001b[0;34m,\u001b[0m\u001b[0;34m\u001b[0m\u001b[0;34m\u001b[0m\u001b[0m\n",
            "\u001b[0;31mNameError\u001b[0m: name 'ensemble' is not defined"
          ]
        }
      ]
    },
    {
      "cell_type": "markdown",
      "source": [
        "### ② RandomForestRegressor 사용"
      ],
      "metadata": {
        "id": "l1eYVShgW4lo"
      }
    },
    {
      "cell_type": "code",
      "source": [
        "# ② RandomForestRegressor 사용\n",
        "reg = ensemble.RandomForestRegressor(\n",
        "           n_estimators=100,  \n",
        "           min_samples_leaf=1,\n",
        "           max_depth=10,\n",
        "           max_features='sqrt',\n",
        "           criterion='mse',\n",
        "           random_state=0,\n",
        "           max_samples=0.07,\n",
        "           ccp_alpha=0.01)\n",
        "reg.fit(x_train, y_train)\n",
        "\n",
        "mse = mean_squared_error(y_test, reg.predict(x_test))\n",
        "print(\"The mean squared error (MSE) on test set: {:.4f}\".format(mse))\n",
        "print(\"The initial error of API ETA on test set: {:.4f}\".format(mean_squared_error(y_test, x_test[:,0]) ))\n",
        "\n",
        "mae = mean_absolute_error(y_test, reg.predict(x_test))\n",
        "print(\"The mean absolute error (MAE) on test set: {:.4f}\".format(mae))\n",
        "print(\"The initial error of API ETA on test set: {:.4f}\".format(mean_absolute_error(y_test, x_test[:,0]) ))"
      ],
      "metadata": {
        "colab": {
          "base_uri": "https://localhost:8080/"
        },
        "id": "uT4HdJhIVvRC",
        "outputId": "b9f0da2d-3983-4fa5-a208-cec36c45f5f5"
      },
      "execution_count": null,
      "outputs": [
        {
          "output_type": "stream",
          "name": "stderr",
          "text": [
            "/usr/local/lib/python3.7/dist-packages/sklearn/ensemble/_forest.py:400: FutureWarning: Criterion 'mse' was deprecated in v1.0 and will be removed in version 1.2. Use `criterion='squared_error'` which is equivalent.\n",
            "  FutureWarning,\n"
          ]
        },
        {
          "output_type": "stream",
          "name": "stdout",
          "text": [
            "The mean squared error (MSE) on test set: 8.4609\n",
            "The initial error of API ETA on test set: 13.6675\n",
            "The mean absolute error (MAE) on test set: 2.1104\n",
            "The initial error of API ETA on test set: 2.6449\n"
          ]
        }
      ]
    },
    {
      "cell_type": "code",
      "source": [
        "params={'n_estimators': 300}\n",
        "test_score = np.zeros((params['n_estimators'],), dtype=np.float64)\n",
        "for i, y_pred in enumerate(reg.staged_predict(x_test)):\n",
        "    test_score[i] = reg.loss_(y_test, y_pred)\n",
        "\n",
        "fig = plt.figure(figsize=(6, 6))\n",
        "plt.subplot(1, 1, 1)\n",
        "plt.title('Deviance')\n",
        "plt.plot(np.arange(params['n_estimators']) + 1, reg.train_score_, 'b-',\n",
        "         label='Training Set Deviance')\n",
        "plt.plot(np.arange(params['n_estimators']) + 1, test_score, 'r-',\n",
        "         label='Test Set Deviance')\n",
        "plt.legend(loc='upper right')\n",
        "plt.xlabel('Boosting Iterations')\n",
        "plt.ylabel('Deviance')\n",
        "fig.tight_layout()\n",
        "plt.show()"
      ],
      "metadata": {
        "colab": {
          "base_uri": "https://localhost:8080/",
          "height": 441
        },
        "id": "fEMqclQvV54V",
        "outputId": "71749cdc-7f1e-4d91-e8dd-bcd35c21d9c4"
      },
      "execution_count": null,
      "outputs": [
        {
          "output_type": "display_data",
          "data": {
            "text/plain": [
              "<Figure size 432x432 with 1 Axes>"
            ],
            "image/png": "[encoded data removed]"
          },
          "metadata": {
            "needs_background": "light"
          }
        }
      ]
    },
    {
      "cell_type": "code",
      "source": [
        "feature_importance = reg.feature_importances_\n",
        "sorted_idx = np.argsort(feature_importance)\n",
        "pos = np.arange(sorted_idx.shape[0]) + .5\n",
        "plt.figure()\n",
        "plt.barh(pos, feature_importance[sorted_idx], align='center')\n",
        "plt.yticks(pos, np.array(eta_features)[sorted_idx])\n",
        "plt.title('Feature Importance (MDI)')\n",
        "plt.show()"
      ],
      "metadata": {
        "colab": {
          "base_uri": "https://localhost:8080/",
          "height": 281
        },
        "id": "eCJV5jMuWOuc",
        "outputId": "58cca940-1220-4915-bc96-945acea5918d"
      },
      "execution_count": null,
      "outputs": [
        {
          "output_type": "display_data",
          "data": {
            "text/plain": [
              "<Figure size 432x288 with 1 Axes>"
            ],
            "image/png": "[encoded data removed]"
          },
          "metadata": {
            "needs_background": "light"
          }
        }
      ]
    }
  ]
}